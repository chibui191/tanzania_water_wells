{
  "nbformat": 4,
  "nbformat_minor": 0,
  "metadata": {
    "colab": {
      "name": "modeling_2.ipynb",
      "provenance": [],
      "collapsed_sections": [
        "xYF9J8GTKe0D",
        "3ebW-gHuKpDI",
        "1RUzg_22LgrC",
        "vRxSCBIwLo1p",
        "1dH4EldELyOX",
        "IxxF6TIwMAJw",
        "OlI_gUjpMRAR",
        "bLQfL4QtOA5R",
        "qbWcZsriOJ6-",
        "5iQaC1gOPmtz",
        "swzPzZCvP874",
        "UY_qrwV9Qd63",
        "2kJoyry8RDhb",
        "xKps15xfRlW-",
        "Bza7_aZMSJoE",
        "U4AXD4UnW-cl"
      ]
    },
    "kernelspec": {
      "name": "python3",
      "display_name": "Python 3"
    },
    "language_info": {
      "name": "python"
    }
  },
  "cells": [
    {
      "cell_type": "code",
      "metadata": {
        "id": "tP5E1dnbJLv9"
      },
      "source": [
        "%load_ext autoreload\n",
        "%autoreload 2"
      ],
      "execution_count": null,
      "outputs": []
    },
    {
      "cell_type": "code",
      "metadata": {
        "id": "w-4VRYPQamZI"
      },
      "source": [
        "import warnings\n",
        "warnings.filterwarnings('ignore')"
      ],
      "execution_count": null,
      "outputs": []
    },
    {
      "cell_type": "code",
      "metadata": {
        "id": "AjEScxvpJPul"
      },
      "source": [
        "import numpy as np\n",
        "import pandas as pd\n",
        "\n",
        "import matplotlib.pyplot as plt\n",
        "import seaborn as sns\n",
        "\n",
        "from sklearn.metrics import (classification_report, accuracy_score, make_scorer, \n",
        "                             roc_auc_score, confusion_matrix, plot_confusion_matrix)\n",
        "from sklearn.preprocessing import (LabelEncoder, OneHotEncoder, StandardScaler, MinMaxScaler, \n",
        "                                   RobustScaler, FunctionTransformer, PolynomialFeatures)\n",
        "from sklearn.compose import ColumnTransformer\n",
        "from sklearn.base import BaseEstimator, TransformerMixin\n",
        "from sklearn.utils.validation import check_is_fitted\n",
        "from sklearn.impute import SimpleImputer\n",
        "from sklearn.model_selection import train_test_split, cross_val_score, KFold, GridSearchCV\n",
        "from sklearn.linear_model import LogisticRegression\n",
        "from sklearn.pipeline import Pipeline, make_pipeline, FeatureUnion\n",
        "from imblearn.over_sampling import SMOTE\n",
        "from imblearn.pipeline import Pipeline as imbPipeline\n",
        "# from imblearn.pipeline import make_pipeline\n",
        "from sklearn.feature_selection import SelectKBest, chi2, f_regression\n",
        "from sklearn.neighbors import KNeighborsClassifier\n",
        "from sklearn.ensemble import RandomForestClassifier\n",
        "from sklearn.tree import DecisionTreeClassifier\n",
        "from xgboost import XGBClassifier\n",
        "from geopy.distance import geodesic\n",
        "import datetime\n",
        "\n",
        "%matplotlib inline"
      ],
      "execution_count": null,
      "outputs": []
    },
    {
      "cell_type": "code",
      "metadata": {
        "colab": {
          "resources": {
            "http://localhost:8080/nbextensions/google.colab/files.js": {
              "data": "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",
              "ok": true,
              "headers": [
                [
                  "content-type",
                  "application/javascript"
                ]
              ],
              "status": 200,
              "status_text": ""
            }
          },
          "base_uri": "https://localhost:8080/",
          "height": 212
        },
        "id": "djFs-FI9JSzT",
        "outputId": "7c016170-9b41-4748-e456-176f6a297d34"
      },
      "source": [
        "from google.colab import files\n",
        "uploaded = files.upload()"
      ],
      "execution_count": null,
      "outputs": [
        {
          "output_type": "display_data",
          "data": {
            "text/html": [
              "\n",
              "     <input type=\"file\" id=\"files-cd885e82-282d-4185-a8dd-e613a09306b8\" name=\"files[]\" multiple disabled\n",
              "        style=\"border:none\" />\n",
              "     <output id=\"result-cd885e82-282d-4185-a8dd-e613a09306b8\">\n",
              "      Upload widget is only available when the cell has been executed in the\n",
              "      current browser session. Please rerun this cell to enable.\n",
              "      </output>\n",
              "      <script src=\"/nbextensions/google.colab/files.js\"></script> "
            ],
            "text/plain": [
              "<IPython.core.display.HTML object>"
            ]
          },
          "metadata": {
            "tags": []
          }
        },
        {
          "output_type": "stream",
          "text": [
            "Saving 0bf8bc6e-30d0-4c50-956a-603fc693d966.csv to 0bf8bc6e-30d0-4c50-956a-603fc693d966 (1).csv\n",
            "Saving 702ddfc5-68cd-4d1d-a0de-f5f566f76d91.csv to 702ddfc5-68cd-4d1d-a0de-f5f566f76d91 (1).csv\n",
            "Saving 4910797b-ee55-40a7-8668-10efd5c1b960.csv to 4910797b-ee55-40a7-8668-10efd5c1b960 (1).csv\n",
            "Saving csvData.csv to csvData (1).csv\n",
            "Saving tz.csv to tz (1).csv\n"
          ],
          "name": "stdout"
        }
      ]
    },
    {
      "cell_type": "markdown",
      "metadata": {
        "id": "xYF9J8GTKe0D"
      },
      "source": [
        "## Data Import & Minimal Preprocessing\n",
        "\n",
        "\n"
      ]
    },
    {
      "cell_type": "code",
      "metadata": {
        "id": "4e6stiFcJVjU"
      },
      "source": [
        "# IMPORT DATASETS\n",
        "y = pd.read_csv('0bf8bc6e-30d0-4c50-956a-603fc693d966.csv')\n",
        "X = pd.read_csv('4910797b-ee55-40a7-8668-10efd5c1b960.csv')\n",
        "final_test = pd.read_csv('702ddfc5-68cd-4d1d-a0de-f5f566f76d91.csv')"
      ],
      "execution_count": null,
      "outputs": []
    },
    {
      "cell_type": "code",
      "metadata": {
        "id": "J-r65VciJ_ca"
      },
      "source": [
        "# CONCAT X AND y TO CREATE 1 MASTER DATAFRAME\n",
        "df = pd.concat([X, y], axis=1)\n",
        "\n",
        "# DROP SOME COLUMNS\n",
        "df = df.drop(['recorded_by', 'id'], axis=1)\n",
        "\n",
        "# DROP DUPLICATED ENTRIES\n",
        "df.drop_duplicates(keep='first', inplace=True)"
      ],
      "execution_count": null,
      "outputs": []
    },
    {
      "cell_type": "markdown",
      "metadata": {
        "id": "3ebW-gHuKpDI"
      },
      "source": [
        "## Train Test Split\n",
        "\n",
        "The goal here is to have 3 sets of data:\n",
        "1. **Training** `X_tt` - used for training\n",
        "2. **Validation** `X_val` - used for model selection/tuning/tweaking\n",
        "3. **Testing** `X_test` - used for testing"
      ]
    },
    {
      "cell_type": "code",
      "metadata": {
        "id": "ueVrFCc6KIiQ"
      },
      "source": [
        "X_master = df.drop('status_group', axis=1)\n",
        "y_master = df.status_group"
      ],
      "execution_count": null,
      "outputs": []
    },
    {
      "cell_type": "markdown",
      "metadata": {
        "id": "1RUzg_22LgrC"
      },
      "source": [
        "### 1. Master Training &  Testing sets\n",
        "\n"
      ]
    },
    {
      "cell_type": "code",
      "metadata": {
        "id": "NUHUbnUNKUoC"
      },
      "source": [
        "X_train, X_test, y_train, y_test = train_test_split(X_master, y_master, random_state=2021)"
      ],
      "execution_count": null,
      "outputs": []
    },
    {
      "cell_type": "code",
      "metadata": {
        "colab": {
          "base_uri": "https://localhost:8080/"
        },
        "id": "Hs0mSBmXLDRh",
        "outputId": "e77ee278-8aa2-408d-80d6-9aaf6bafd254"
      },
      "source": [
        "print(f'Training: {X_train.shape} | {y_train.shape}')\n",
        "print(f'Testing: {X_test.shape} | {y_test.shape}')"
      ],
      "execution_count": null,
      "outputs": [
        {
          "output_type": "stream",
          "text": [
            "Training: (44523, 38) | (44523,)\n",
            "Testing: (14841, 38) | (14841,)\n"
          ],
          "name": "stdout"
        }
      ]
    },
    {
      "cell_type": "markdown",
      "metadata": {
        "id": "vRxSCBIwLo1p"
      },
      "source": [
        "### 2. Training & Validation sets"
      ]
    },
    {
      "cell_type": "code",
      "metadata": {
        "id": "C-d0fWIbLFOk"
      },
      "source": [
        "# SPLIT 2: Training & Validation sets\n",
        "X_tt, X_val, y_tt, y_val = train_test_split(X_train, y_train, random_state=2021)"
      ],
      "execution_count": null,
      "outputs": []
    },
    {
      "cell_type": "code",
      "metadata": {
        "colab": {
          "base_uri": "https://localhost:8080/"
        },
        "id": "pjB_uOMXTa_y",
        "outputId": "d1e81995-a7cf-4f01-b46e-a970bdbf440b"
      },
      "source": [
        "print(f'Training: {X_tt.shape} | {y_tt.shape}')\n",
        "print(f'Validation: {X_val.shape} | {y_val.shape}')"
      ],
      "execution_count": null,
      "outputs": [
        {
          "output_type": "stream",
          "text": [
            "Training: (33392, 38) | (33392,)\n",
            "Validation: (11131, 38) | (11131,)\n"
          ],
          "name": "stdout"
        }
      ]
    },
    {
      "cell_type": "markdown",
      "metadata": {
        "id": "hwTC5DfjLtiV"
      },
      "source": [
        "## Building Preprocessing Pipeline"
      ]
    },
    {
      "cell_type": "markdown",
      "metadata": {
        "id": "1dH4EldELyOX"
      },
      "source": [
        "### 1. Adding More Features"
      ]
    },
    {
      "cell_type": "markdown",
      "metadata": {
        "id": "IxxF6TIwMAJw"
      },
      "source": [
        "#### 1.1. Extract Month/Year and Age Recorded Information from `date_recorded`"
      ]
    },
    {
      "cell_type": "code",
      "metadata": {
        "id": "4d-mhn-mLvd5"
      },
      "source": [
        "class DateTransformer(BaseEstimator, TransformerMixin):\n",
        "  \"\"\"Extracts information from datetime column to create new features\n",
        "\n",
        "    Returns:\n",
        "      month_recorded: first 3 character of name of the month recorded\n",
        "      year_recorded: four-digit year\n",
        "      age_recorded: difference between construction year and year recorded\n",
        "   \"\"\"\n",
        "\n",
        "  def fit(self, X, y=None):\n",
        "    return self\n",
        "\n",
        "  def transform(self, X, y=None):\n",
        "    X['date_recorded'] = pd.to_datetime(X['date_recorded'])\n",
        "    X['month_recorded'] = X.date_recorded.dt.month_name().str.slice(stop=3)\n",
        "    X['year_recorded'] = X.date_recorded.dt.year\n",
        "    X['age_recorded'] = X['year_recorded'] - X['construction_year']\n",
        "    return self"
      ],
      "execution_count": null,
      "outputs": []
    },
    {
      "cell_type": "markdown",
      "metadata": {
        "id": "OlI_gUjpMRAR"
      },
      "source": [
        "#### 1.2. Adding Features Regarding Nearest Big City to the Water Wells by coordinates"
      ]
    },
    {
      "cell_type": "code",
      "metadata": {
        "id": "Jl8xYItKMN5L"
      },
      "source": [
        "# Import Tanzania cities coordinates & population dataset\n",
        "tanzania_cities = pd.read_csv('tz.csv')\n",
        "\n",
        "# Import 2021 population dataset\n",
        "tanzania_pop = pd.read_csv('csvData.csv')\n",
        "tanzania_pop = tanzania_pop[['name', '2021']]\n",
        "tanzania_pop.columns = ['city', 'population_2021']\n",
        "\n",
        "# Merge 2 datasets on city names \n",
        "tz_df = tanzania_pop.merge(tanzania_cities, how='left', left_on='city', right_on='city')\n",
        "tz_df.head()\n",
        "\n",
        "# Drop the 2 population columns from the first df\n",
        "tz_df.drop(['population', 'population_proper'], axis=1, inplace=True)\n",
        "\n",
        "# Create another column that store the coordinates as a tuple\n",
        "tz_df['coordinates'] = list(zip(tz_df.lat, tz_df.lng))"
      ],
      "execution_count": null,
      "outputs": []
    },
    {
      "cell_type": "markdown",
      "metadata": {
        "id": "CD91v66XM6L-"
      },
      "source": [
        "Then I will select the cities with population above 100,000 (this benchmark is currently arbitrary)"
      ]
    },
    {
      "cell_type": "code",
      "metadata": {
        "id": "4FOaeSb_M3t8"
      },
      "source": [
        "tz_pop_above100k = tz_df[tz_df.population_2021 > 100000].copy()\n",
        "\n",
        "# Drop rows with missing latitude and/or longitude\n",
        "tz_pop_above100k.dropna(subset=['lat', 'lng'], inplace=True)"
      ],
      "execution_count": null,
      "outputs": []
    },
    {
      "cell_type": "code",
      "metadata": {
        "id": "ECBk2Ce6NJF-"
      },
      "source": [
        "def closest_point(x):\n",
        "    '''\n",
        "    Returns: a tuple\n",
        "    - tuple[0]: name of nearest big city (population over 100000)\n",
        "    - tuple[1]: geodesic distance from point x to nearest big city (tuple[0])\n",
        "    '''\n",
        "    \n",
        "    output = None\n",
        "    for _, city in tz_pop_above100k.iterrows():\n",
        "        distance = geodesic(x, city.coordinates).km\n",
        "        city_name = city.city\n",
        "        if (output is None) or (distance < output[1]):\n",
        "            output = (city_name, distance)\n",
        "    return output"
      ],
      "execution_count": null,
      "outputs": []
    },
    {
      "cell_type": "code",
      "metadata": {
        "id": "mgvTjBpLNtJA"
      },
      "source": [
        "class FeatureGenerator(BaseEstimator, TransformerMixin):\n",
        "  \"\"\"Generate extra features from wells' coordinates\n",
        "    \n",
        "    Returns:\n",
        "      nearest_big_city_name: name of the nearest city with population over 100,000\n",
        "      nearest_big_city_distance: distance to nearest city with population over 100,000\n",
        "      nearest_big_city_population: population of nearest big city\n",
        "   \"\"\"\n",
        "   \n",
        "  def fit(self, X, y=None):\n",
        "    return self\n",
        "\n",
        "  def transform(self, X, y=None):\n",
        "    names = []\n",
        "    distances = []\n",
        "    populations = []\n",
        "    for idx, row in X.iterrows():\n",
        "        coordinates = (row['latitude'], row['longitude'])\n",
        "        n, d = closest_point(coordinates)\n",
        "        p = tz_df[tz_df.city == n].population_2021.values[0]\n",
        "        names.append(n)\n",
        "        distances.append(d)\n",
        "        populations.append(p)\n",
        "    X['nearest_big_city_name'] = names\n",
        "    X['nearest_big_city_distance'] = distances\n",
        "    X['nearest_big_city_population'] = populations\n",
        "    return self"
      ],
      "execution_count": null,
      "outputs": []
    },
    {
      "cell_type": "markdown",
      "metadata": {
        "id": "bLQfL4QtOA5R"
      },
      "source": [
        "### 2. Preprocessing"
      ]
    },
    {
      "cell_type": "markdown",
      "metadata": {
        "id": "qbWcZsriOJ6-"
      },
      "source": [
        "#### 2.1. Fill in Missing Values with string `\"NaN\"`bold text in some Categorical & Boolean Features\n",
        "\n",
        "`public_meeting`, `scheme_management`, `permit`"
      ]
    },
    {
      "cell_type": "code",
      "metadata": {
        "id": "ak-WU-HEOElY"
      },
      "source": [
        "class NaNImputer(BaseEstimator, TransformerMixin):\n",
        "    def fit(self, X, y=None):\n",
        "        return self\n",
        "\n",
        "    def transform(self, X, y=None):\n",
        "        to_fillna = ['public_meeting', 'scheme_management', 'permit']\n",
        "        X[to_fillna] = X[to_fillna].fillna(value='NaN')\n",
        "        X[to_fillna] = X[to_fillna].astype(str)  \n",
        "        return X"
      ],
      "execution_count": null,
      "outputs": []
    },
    {
      "cell_type": "markdown",
      "metadata": {
        "id": "fz9YkAhEPAzN"
      },
      "source": [
        "#### 2.2. Impute Longitude"
      ]
    },
    {
      "cell_type": "code",
      "metadata": {
        "id": "E3R-P19xPAeQ"
      },
      "source": [
        "class LongitudeImputer(BaseEstimator, TransformerMixin):\n",
        "    \"\"\"\n",
        "    Replaces invalid longitude value (0) with the aggregated means by region\n",
        "    using region_code\n",
        "    \"\"\"\n",
        "    def __init__(self):\n",
        "        super().__init__()\n",
        "        self.lng_means_ = {}\n",
        "\n",
        "    def fit(self, X, y=None):\n",
        "        self.lng_means_ = X.groupby(['region_code']).longitude.mean()\n",
        "        return self\n",
        "\n",
        "    def transform(self, X, y=None):\n",
        "        # replace 0 with average longitude\n",
        "        for key, value in self.lng_means_.items():\n",
        "            X.loc[((X.longitude == 0) & (X.region_code == key)), 'longitude'] = value\n",
        "        return X"
      ],
      "execution_count": null,
      "outputs": []
    },
    {
      "cell_type": "markdown",
      "metadata": {
        "id": "5iQaC1gOPmtz"
      },
      "source": [
        "#### 2.3. Binning Funder & Installer into 2 groups:\n",
        "- `major` - top 100 funders or installers - responsible for around 80% of the water wells in the dataset used for fitting\n",
        "- `minor` - any entities that are not in the top 100 list"
      ]
    },
    {
      "cell_type": "markdown",
      "metadata": {
        "id": "swzPzZCvP874"
      },
      "source": [
        "##### 2.3.1. Funder"
      ]
    },
    {
      "cell_type": "code",
      "metadata": {
        "id": "rzRmgKUaOlcp"
      },
      "source": [
        "class FunderBinner(BaseEstimator, TransformerMixin):\n",
        "    \"\"\"\n",
        "    Categorize funders into 2 groups 'major' or minor'\n",
        "    - 'major': top 100 funders in the fitted dataset\n",
        "    - 'minor' - any entities that are not in the top 100 list\n",
        "    \"\"\"\n",
        "\n",
        "    def __init__(self):\n",
        "        super().__init__()\n",
        "        self.top_100_funder = []\n",
        "\n",
        "    def fit(self, X, y=None):\n",
        "        self.top_100_funder = X.funder.value_counts()[:100].index\n",
        "        return self\n",
        "\n",
        "    def transform(self, X, y=None):\n",
        "        for idx, row in X.iterrows():\n",
        "            if row['funder'] in self.top_100_funder:\n",
        "                val = 'major' \n",
        "            else:\n",
        "                val = 'minor'\n",
        "            X.loc[idx, 'funder'] = val\n",
        "        return X"
      ],
      "execution_count": null,
      "outputs": []
    },
    {
      "cell_type": "markdown",
      "metadata": {
        "id": "UY_qrwV9Qd63"
      },
      "source": [
        "##### 2.3.2. Installer"
      ]
    },
    {
      "cell_type": "code",
      "metadata": {
        "id": "AxVw7yspQgVy"
      },
      "source": [
        "class InstallerBinner(BaseEstimator, TransformerMixin):\n",
        "    \"\"\"\n",
        "    Categorize installers into 2 groups 'major' or minor'\n",
        "    - 'major': top 100 funders in the fitted dataset\n",
        "    - 'minor' - any entities that are not in the top 100 list\n",
        "    \"\"\"\n",
        "\n",
        "    def __init__(self):\n",
        "        super().__init__()\n",
        "        self.top_100_installer = []\n",
        "\n",
        "    def fit(self, X, y=None):\n",
        "        self.top_100_installer = X.installer.value_counts()[:100].index\n",
        "\n",
        "        return self\n",
        "\n",
        "    def transform(self, X, y=None):\n",
        "        for idx, row in X.iterrows():\n",
        "            if row['installer'] in self.top_100_installer:\n",
        "                val = 'major' \n",
        "            else:\n",
        "                val = 'minor'\n",
        "            X.loc[idx, 'installer'] = val\n",
        "        return X"
      ],
      "execution_count": null,
      "outputs": []
    },
    {
      "cell_type": "code",
      "metadata": {
        "id": "lj46ha_tQ13u"
      },
      "source": [
        ""
      ],
      "execution_count": null,
      "outputs": []
    },
    {
      "cell_type": "markdown",
      "metadata": {
        "id": "2kJoyry8RDhb"
      },
      "source": [
        "#### 2.4 Scaling Numerical Features"
      ]
    },
    {
      "cell_type": "code",
      "metadata": {
        "id": "HBsPCwtqRMQh"
      },
      "source": [
        "# SELECT NUMERICAL FEATURES TO BE INCLUDED IN MODELING\n",
        "numerical_features = ['amount_tsh', 'gps_height', 'num_private', 'construction_year', 'year_recorded', 'age_recorded',\n",
        "                      'population', 'nearest_big_city_population', 'longitude', 'latitude', 'nearest_big_city_distance']"
      ],
      "execution_count": null,
      "outputs": []
    },
    {
      "cell_type": "code",
      "metadata": {
        "id": "AFzTQ7SIRdEf"
      },
      "source": [
        "numerical_transformer = Pipeline(steps=[('scaler', MinMaxScaler())])"
      ],
      "execution_count": null,
      "outputs": []
    },
    {
      "cell_type": "markdown",
      "metadata": {
        "id": "xKps15xfRlW-"
      },
      "source": [
        "#### 2.5. One Hot Encoding Categorical Features"
      ]
    },
    {
      "cell_type": "code",
      "metadata": {
        "id": "TXUZeTWpRkFF"
      },
      "source": [
        "# SELECT CATEGORICAL FEATURES TO BE INCLUDED IN MODELING\n",
        "categorical_features = ['funder', 'installer', 'basin', 'region', 'public_meeting', 'scheme_management',\n",
        "                        'permit', 'extraction_type_class', 'management_group', 'payment_type', 'quality_group',\n",
        "                        'quantity', 'source_class', 'waterpoint_type_group', 'nearest_big_city_name', 'month_recorded']"
      ],
      "execution_count": null,
      "outputs": []
    },
    {
      "cell_type": "code",
      "metadata": {
        "id": "h4COcrpeRwHk"
      },
      "source": [
        "categorical_transformer = Pipeline(steps=[('ohe', OneHotEncoder(handle_unknown='ignore'))])"
      ],
      "execution_count": null,
      "outputs": []
    },
    {
      "cell_type": "markdown",
      "metadata": {
        "id": "SdsaCZG3SEdg"
      },
      "source": [
        ""
      ]
    },
    {
      "cell_type": "code",
      "metadata": {
        "id": "9BaqfhS6RyCv"
      },
      "source": [
        ""
      ],
      "execution_count": null,
      "outputs": []
    },
    {
      "cell_type": "markdown",
      "metadata": {
        "id": "Bza7_aZMSJoE"
      },
      "source": [
        "## Preprocessing Pipeline"
      ]
    },
    {
      "cell_type": "code",
      "metadata": {
        "id": "8ayknqQ1SLDe"
      },
      "source": [
        "# ADDING NEW FEATURES USING FeatureUnion\n",
        "union = FeatureUnion(transformer_list=[('recorded', DateTransformer()),\n",
        "                                       ('nearest_big_city', FeatureGenerator())])\n",
        "\n",
        "# TRANSFORM NUMERICAL & CATEGORICAL FEATURES SEPARATELY USING ColumnTransformer\n",
        "col_tranformer = ColumnTransformer(transformers=[('num', numerical_transformer, numerical_features),\n",
        "                                                 ('cat', categorical_transformer, categorical_features)],\n",
        "                                   remainder='drop')\n",
        "\n",
        "# STACKING THEM TOGETHER IN A PIPELINE\n",
        "preprocessor = Pipeline(steps=[('fillna', NaNImputer()),\n",
        "                               ('lng_imp', LongitudeImputer()),\n",
        "                               ('funder', FunderBinner()),\n",
        "                               ('installer', InstallerBinner()),\n",
        "                               ('col_tf', col_tranformer)])"
      ],
      "execution_count": null,
      "outputs": []
    },
    {
      "cell_type": "markdown",
      "metadata": {
        "id": "8R1Sb3acSzYe"
      },
      "source": [
        "## Modeling"
      ]
    },
    {
      "cell_type": "code",
      "metadata": {
        "colab": {
          "base_uri": "https://localhost:8080/"
        },
        "id": "PORqQszTSoGs",
        "outputId": "1fd7f058-3655-4905-f081-7be09a8b016c"
      },
      "source": [
        "# CREATE NEW FEATURES IN TRAINING SET X_tt\n",
        "union.fit_transform(X_tt)"
      ],
      "execution_count": null,
      "outputs": [
        {
          "output_type": "execute_result",
          "data": {
            "text/plain": [
              "array([DateTransformer(), FeatureGenerator()], dtype=object)"
            ]
          },
          "metadata": {
            "tags": []
          },
          "execution_count": 27
        }
      ]
    },
    {
      "cell_type": "markdown",
      "metadata": {
        "id": "m5xdH9D3W4NY"
      },
      "source": [
        "### 1. Random Forest Classifier"
      ]
    },
    {
      "cell_type": "code",
      "metadata": {
        "id": "ntbYNA8fXMBU"
      },
      "source": [
        "def classification_report_with_accuracy_score(y_true, y_pred):\n",
        "    \"\"\"\n",
        "    Returns Accuracy score while also printing out Classification Report\n",
        "    \"\"\"\n",
        "    print(classification_report(y_true, y_pred))\n",
        "    return accuracy_score(y_true, y_pred)\n",
        "\n",
        "scr_accuracy = make_scorer(classification_report_with_accuracy_score)"
      ],
      "execution_count": null,
      "outputs": []
    },
    {
      "cell_type": "markdown",
      "metadata": {
        "id": "U4AXD4UnW-cl"
      },
      "source": [
        "#### 1.1. With Class Imbalance"
      ]
    },
    {
      "cell_type": "code",
      "metadata": {
        "colab": {
          "base_uri": "https://localhost:8080/"
        },
        "id": "Y2bq_P8iTou8",
        "outputId": "52bf8354-d989-4ea9-f856-5c9c376d47bb"
      },
      "source": [
        "pipeline = Pipeline(steps=[('preprocessor', preprocessor),\n",
        "                           ('rf', RandomForestClassifier(random_state=2021))])\n",
        "\n",
        "scores_rf1 = cross_val_score(pipeline, X_tt, y_tt, scoring=scr_accuracy)"
      ],
      "execution_count": null,
      "outputs": [
        {
          "output_type": "stream",
          "text": [
            "                         precision    recall  f1-score   support\n",
            "\n",
            "             functional       0.80      0.86      0.83      3623\n",
            "functional needs repair       0.49      0.33      0.40       483\n",
            "         non functional       0.80      0.77      0.78      2573\n",
            "\n",
            "               accuracy                           0.79      6679\n",
            "              macro avg       0.70      0.65      0.67      6679\n",
            "           weighted avg       0.78      0.79      0.78      6679\n",
            "\n",
            "                         precision    recall  f1-score   support\n",
            "\n",
            "             functional       0.80      0.87      0.84      3623\n",
            "functional needs repair       0.52      0.31      0.39       483\n",
            "         non functional       0.81      0.78      0.80      2573\n",
            "\n",
            "               accuracy                           0.80      6679\n",
            "              macro avg       0.71      0.66      0.68      6679\n",
            "           weighted avg       0.79      0.80      0.79      6679\n",
            "\n",
            "                         precision    recall  f1-score   support\n",
            "\n",
            "             functional       0.79      0.87      0.83      3622\n",
            "functional needs repair       0.51      0.32      0.40       482\n",
            "         non functional       0.82      0.76      0.79      2574\n",
            "\n",
            "               accuracy                           0.79      6678\n",
            "              macro avg       0.71      0.65      0.67      6678\n",
            "           weighted avg       0.78      0.79      0.78      6678\n",
            "\n",
            "                         precision    recall  f1-score   support\n",
            "\n",
            "             functional       0.80      0.87      0.83      3622\n",
            "functional needs repair       0.46      0.31      0.37       482\n",
            "         non functional       0.82      0.78      0.80      2574\n",
            "\n",
            "               accuracy                           0.79      6678\n",
            "              macro avg       0.69      0.65      0.67      6678\n",
            "           weighted avg       0.78      0.79      0.79      6678\n",
            "\n",
            "                         precision    recall  f1-score   support\n",
            "\n",
            "             functional       0.79      0.87      0.83      3622\n",
            "functional needs repair       0.52      0.32      0.40       482\n",
            "         non functional       0.82      0.77      0.79      2574\n",
            "\n",
            "               accuracy                           0.79      6678\n",
            "              macro avg       0.71      0.65      0.67      6678\n",
            "           weighted avg       0.78      0.79      0.78      6678\n",
            "\n"
          ],
          "name": "stdout"
        }
      ]
    },
    {
      "cell_type": "code",
      "metadata": {
        "colab": {
          "base_uri": "https://localhost:8080/"
        },
        "id": "WyU0wbM8Y157",
        "outputId": "57d996c4-bdd6-479c-f627-109080fca419"
      },
      "source": [
        "scores_rf1.mean()"
      ],
      "execution_count": null,
      "outputs": [
        {
          "output_type": "execute_result",
          "data": {
            "text/plain": [
              "0.7905486530063138"
            ]
          },
          "metadata": {
            "tags": []
          },
          "execution_count": 29
        }
      ]
    },
    {
      "cell_type": "markdown",
      "metadata": {
        "id": "GR5KIa6Obe70"
      },
      "source": [
        "#### Feature Importance"
      ]
    },
    {
      "cell_type": "code",
      "metadata": {
        "id": "qcutWh2gb4f-"
      },
      "source": [
        "rf1 = pipeline.fit(X_tt, y_tt)"
      ],
      "execution_count": null,
      "outputs": []
    },
    {
      "cell_type": "code",
      "metadata": {
        "colab": {
          "base_uri": "https://localhost:8080/"
        },
        "id": "SYOAn_2PhFXI",
        "outputId": "6522c1aa-2361-4e8e-863e-3767990b87a4"
      },
      "source": [
        "pipeline[0][4].named_transformers_['cat'][0].get_feature_names(input_features=categorical_features)"
      ],
      "execution_count": null,
      "outputs": [
        {
          "output_type": "execute_result",
          "data": {
            "text/plain": [
              "array(['funder_major', 'funder_minor', 'installer_major',\n",
              "       'installer_minor', 'basin_Internal', 'basin_Lake Nyasa',\n",
              "       'basin_Lake Rukwa', 'basin_Lake Tanganyika', 'basin_Lake Victoria',\n",
              "       'basin_Pangani', 'basin_Rufiji', 'basin_Ruvuma / Southern Coast',\n",
              "       'basin_Wami / Ruvu', 'region_Arusha', 'region_Dar es Salaam',\n",
              "       'region_Dodoma', 'region_Iringa', 'region_Kagera', 'region_Kigoma',\n",
              "       'region_Kilimanjaro', 'region_Lindi', 'region_Manyara',\n",
              "       'region_Mara', 'region_Mbeya', 'region_Morogoro', 'region_Mtwara',\n",
              "       'region_Mwanza', 'region_Pwani', 'region_Rukwa', 'region_Ruvuma',\n",
              "       'region_Shinyanga', 'region_Singida', 'region_Tabora',\n",
              "       'region_Tanga', 'public_meeting_False', 'public_meeting_NaN',\n",
              "       'public_meeting_True', 'scheme_management_Company',\n",
              "       'scheme_management_NaN', 'scheme_management_None',\n",
              "       'scheme_management_Other', 'scheme_management_Parastatal',\n",
              "       'scheme_management_Private operator', 'scheme_management_SWC',\n",
              "       'scheme_management_Trust', 'scheme_management_VWC',\n",
              "       'scheme_management_WUA', 'scheme_management_WUG',\n",
              "       'scheme_management_Water Board',\n",
              "       'scheme_management_Water authority', 'permit_False', 'permit_NaN',\n",
              "       'permit_True', 'extraction_type_class_gravity',\n",
              "       'extraction_type_class_handpump',\n",
              "       'extraction_type_class_motorpump', 'extraction_type_class_other',\n",
              "       'extraction_type_class_rope pump',\n",
              "       'extraction_type_class_submersible',\n",
              "       'extraction_type_class_wind-powered',\n",
              "       'management_group_commercial', 'management_group_other',\n",
              "       'management_group_parastatal', 'management_group_unknown',\n",
              "       'management_group_user-group', 'payment_type_annually',\n",
              "       'payment_type_monthly', 'payment_type_never pay',\n",
              "       'payment_type_on failure', 'payment_type_other',\n",
              "       'payment_type_per bucket', 'payment_type_unknown',\n",
              "       'quality_group_colored', 'quality_group_fluoride',\n",
              "       'quality_group_good', 'quality_group_milky', 'quality_group_salty',\n",
              "       'quality_group_unknown', 'quantity_dry', 'quantity_enough',\n",
              "       'quantity_insufficient', 'quantity_seasonal', 'quantity_unknown',\n",
              "       'source_class_groundwater', 'source_class_surface',\n",
              "       'source_class_unknown', 'waterpoint_type_group_cattle trough',\n",
              "       'waterpoint_type_group_communal standpipe',\n",
              "       'waterpoint_type_group_dam', 'waterpoint_type_group_hand pump',\n",
              "       'waterpoint_type_group_improved spring',\n",
              "       'waterpoint_type_group_other', 'nearest_big_city_name_Arusha',\n",
              "       'nearest_big_city_name_Dar es Salaam',\n",
              "       'nearest_big_city_name_Dodoma', 'nearest_big_city_name_Iringa',\n",
              "       'nearest_big_city_name_Kigoma', 'nearest_big_city_name_Mbeya',\n",
              "       'nearest_big_city_name_Morogoro', 'nearest_big_city_name_Moshi',\n",
              "       'nearest_big_city_name_Musoma', 'nearest_big_city_name_Mwanza',\n",
              "       'nearest_big_city_name_Shinyanga', 'nearest_big_city_name_Songea',\n",
              "       'nearest_big_city_name_Tabora', 'nearest_big_city_name_Tanga',\n",
              "       'nearest_big_city_name_Zanzibar', 'month_recorded_Apr',\n",
              "       'month_recorded_Aug', 'month_recorded_Dec', 'month_recorded_Feb',\n",
              "       'month_recorded_Jan', 'month_recorded_Jul', 'month_recorded_Jun',\n",
              "       'month_recorded_Mar', 'month_recorded_May', 'month_recorded_Nov',\n",
              "       'month_recorded_Oct', 'month_recorded_Sep'], dtype=object)"
            ]
          },
          "metadata": {
            "tags": []
          },
          "execution_count": 33
        }
      ]
    },
    {
      "cell_type": "code",
      "metadata": {
        "colab": {
          "base_uri": "https://localhost:8080/",
          "height": 415
        },
        "id": "ecLB63Wobc6Z",
        "outputId": "58b4138a-3d88-4fcf-9f4f-78889dc81600"
      },
      "source": [
        "ohe_cols = pipeline[0][4]\\\n",
        "                   .named_transformers_['cat']\\\n",
        "                   [0]\\\n",
        "                   .get_feature_names(input_features=categorical_features)\n",
        "              \n",
        "feature_importances = pd.DataFrame({'feature': np.array(numerical_features + list(ohe_cols)),\n",
        "                                   'score': pipeline[1].feature_importances_}).sort_values(by='score', ascending=False)\n",
        "feature_importances"
      ],
      "execution_count": null,
      "outputs": [
        {
          "output_type": "execute_result",
          "data": {
            "text/html": [
              "<div>\n",
              "<style scoped>\n",
              "    .dataframe tbody tr th:only-of-type {\n",
              "        vertical-align: middle;\n",
              "    }\n",
              "\n",
              "    .dataframe tbody tr th {\n",
              "        vertical-align: top;\n",
              "    }\n",
              "\n",
              "    .dataframe thead th {\n",
              "        text-align: right;\n",
              "    }\n",
              "</style>\n",
              "<table border=\"1\" class=\"dataframe\">\n",
              "  <thead>\n",
              "    <tr style=\"text-align: right;\">\n",
              "      <th></th>\n",
              "      <th>feature</th>\n",
              "      <th>score</th>\n",
              "    </tr>\n",
              "  </thead>\n",
              "  <tbody>\n",
              "    <tr>\n",
              "      <th>8</th>\n",
              "      <td>longitude</td>\n",
              "      <td>0.102771</td>\n",
              "    </tr>\n",
              "    <tr>\n",
              "      <th>9</th>\n",
              "      <td>latitude</td>\n",
              "      <td>0.102274</td>\n",
              "    </tr>\n",
              "    <tr>\n",
              "      <th>10</th>\n",
              "      <td>nearest_big_city_distance</td>\n",
              "      <td>0.098715</td>\n",
              "    </tr>\n",
              "    <tr>\n",
              "      <th>89</th>\n",
              "      <td>quantity_dry</td>\n",
              "      <td>0.073278</td>\n",
              "    </tr>\n",
              "    <tr>\n",
              "      <th>1</th>\n",
              "      <td>gps_height</td>\n",
              "      <td>0.053007</td>\n",
              "    </tr>\n",
              "    <tr>\n",
              "      <th>...</th>\n",
              "      <td>...</td>\n",
              "      <td>...</td>\n",
              "    </tr>\n",
              "    <tr>\n",
              "      <th>97</th>\n",
              "      <td>waterpoint_type_group_cattle trough</td>\n",
              "      <td>0.000218</td>\n",
              "    </tr>\n",
              "    <tr>\n",
              "      <th>55</th>\n",
              "      <td>scheme_management_Trust</td>\n",
              "      <td>0.000208</td>\n",
              "    </tr>\n",
              "    <tr>\n",
              "      <th>54</th>\n",
              "      <td>scheme_management_SWC</td>\n",
              "      <td>0.000076</td>\n",
              "    </tr>\n",
              "    <tr>\n",
              "      <th>99</th>\n",
              "      <td>waterpoint_type_group_dam</td>\n",
              "      <td>0.000041</td>\n",
              "    </tr>\n",
              "    <tr>\n",
              "      <th>50</th>\n",
              "      <td>scheme_management_None</td>\n",
              "      <td>0.000000</td>\n",
              "    </tr>\n",
              "  </tbody>\n",
              "</table>\n",
              "<p>130 rows × 2 columns</p>\n",
              "</div>"
            ],
            "text/plain": [
              "                                feature     score\n",
              "8                             longitude  0.102771\n",
              "9                              latitude  0.102274\n",
              "10            nearest_big_city_distance  0.098715\n",
              "89                         quantity_dry  0.073278\n",
              "1                            gps_height  0.053007\n",
              "..                                  ...       ...\n",
              "97  waterpoint_type_group_cattle trough  0.000218\n",
              "55              scheme_management_Trust  0.000208\n",
              "54                scheme_management_SWC  0.000076\n",
              "99            waterpoint_type_group_dam  0.000041\n",
              "50               scheme_management_None  0.000000\n",
              "\n",
              "[130 rows x 2 columns]"
            ]
          },
          "metadata": {
            "tags": []
          },
          "execution_count": 34
        }
      ]
    },
    {
      "cell_type": "code",
      "metadata": {
        "colab": {
          "base_uri": "https://localhost:8080/",
          "height": 1000
        },
        "id": "KE_16TMGh6xt",
        "outputId": "77ae298d-02b2-4cf9-b2ff-2e644eba3e9d"
      },
      "source": [
        "# FEATURE IMPORTANCES VISUALIZATION\n",
        "fig, ax = plt.subplots(1, figsize=(15, 25))\n",
        "ax = sns.barplot(x='score', y='feature', data=feature_importances[:50]);"
      ],
      "execution_count": null,
      "outputs": [
        {
          "output_type": "display_data",
          "data": {
            "image/png": "[encoded data removed]",
            "text/plain": [
              "<Figure size 1080x1800 with 1 Axes>"
            ]
          },
          "metadata": {
            "tags": [],
            "needs_background": "light"
          }
        }
      ]
    },
    {
      "cell_type": "markdown",
      "metadata": {
        "id": "a5Gp6iZAa4Le"
      },
      "source": [
        "#### 1.2. with SMOTE"
      ]
    },
    {
      "cell_type": "code",
      "metadata": {
        "colab": {
          "base_uri": "https://localhost:8080/"
        },
        "id": "EMFLVDpuaxuf",
        "outputId": "b8e81431-3671-4d42-ed69-bb0c4dda671b"
      },
      "source": [
        "pipe_sm = imbPipeline([('fillna', NaNImputer()),\n",
        "                       ('lng_imp', LongitudeImputer()),\n",
        "                       ('funder', FunderBinner()),\n",
        "                       ('installer', InstallerBinner()),\n",
        "                       ('col_tf', col_tranformer),\n",
        "                       ('sampler', SMOTE(random_state=2021, n_jobs=-1, sampling_strategy='minority')),\n",
        "                       ('rf', RandomForestClassifier(random_state=2021))])\n",
        "\n",
        "scores_rf2 = cross_val_score(pipe_sm, X_tt, y_tt, scoring=scr_accuracy)"
      ],
      "execution_count": null,
      "outputs": [
        {
          "output_type": "stream",
          "text": [
            "                         precision    recall  f1-score   support\n",
            "\n",
            "             functional       0.81      0.83      0.82      3623\n",
            "functional needs repair       0.40      0.46      0.43       483\n",
            "         non functional       0.81      0.76      0.78      2573\n",
            "\n",
            "               accuracy                           0.77      6679\n",
            "              macro avg       0.67      0.68      0.68      6679\n",
            "           weighted avg       0.78      0.77      0.78      6679\n",
            "\n",
            "                         precision    recall  f1-score   support\n",
            "\n",
            "             functional       0.82      0.84      0.83      3623\n",
            "functional needs repair       0.41      0.45      0.43       483\n",
            "         non functional       0.82      0.77      0.79      2573\n",
            "\n",
            "               accuracy                           0.79      6679\n",
            "              macro avg       0.68      0.69      0.68      6679\n",
            "           weighted avg       0.79      0.79      0.79      6679\n",
            "\n",
            "                         precision    recall  f1-score   support\n",
            "\n",
            "             functional       0.80      0.84      0.82      3622\n",
            "functional needs repair       0.40      0.43      0.41       482\n",
            "         non functional       0.82      0.76      0.79      2574\n",
            "\n",
            "               accuracy                           0.78      6678\n",
            "              macro avg       0.67      0.67      0.67      6678\n",
            "           weighted avg       0.78      0.78      0.78      6678\n",
            "\n",
            "                         precision    recall  f1-score   support\n",
            "\n",
            "             functional       0.81      0.83      0.82      3622\n",
            "functional needs repair       0.38      0.44      0.41       482\n",
            "         non functional       0.82      0.77      0.80      2574\n",
            "\n",
            "               accuracy                           0.78      6678\n",
            "              macro avg       0.67      0.68      0.68      6678\n",
            "           weighted avg       0.79      0.78      0.78      6678\n",
            "\n",
            "                         precision    recall  f1-score   support\n",
            "\n",
            "             functional       0.80      0.84      0.82      3622\n",
            "functional needs repair       0.42      0.46      0.44       482\n",
            "         non functional       0.82      0.76      0.79      2574\n",
            "\n",
            "               accuracy                           0.78      6678\n",
            "              macro avg       0.68      0.68      0.68      6678\n",
            "           weighted avg       0.78      0.78      0.78      6678\n",
            "\n"
          ],
          "name": "stdout"
        }
      ]
    },
    {
      "cell_type": "code",
      "metadata": {
        "colab": {
          "base_uri": "https://localhost:8080/"
        },
        "id": "qjbTjS7AbIDS",
        "outputId": "a014e4b6-dfaf-4264-b9e4-6657fc07e56e"
      },
      "source": [
        "scores_rf2.mean()"
      ],
      "execution_count": null,
      "outputs": [
        {
          "output_type": "execute_result",
          "data": {
            "text/plain": [
              "0.7795579570427235"
            ]
          },
          "metadata": {
            "tags": []
          },
          "execution_count": 45
        }
      ]
    },
    {
      "cell_type": "code",
      "metadata": {
        "id": "EX4jsAi9o4Wt"
      },
      "source": [
        "param_grid = [{\n",
        "    'rf__n_estimators': [100, 300, 500],\n",
        "    'rf__criterion': ['gini', 'entropy'],\n",
        "    'rf__max_features': ['auto', 'sqrt', 'log2'],\n",
        "    'rf__max_depth': [75, 90, 105, 120] \n",
        "}]"
      ],
      "execution_count": null,
      "outputs": []
    },
    {
      "cell_type": "markdown",
      "metadata": {
        "id": "kKKD8NNzpc8Z"
      },
      "source": [
        "1. `criterion = 'entropy'`"
      ]
    },
    {
      "cell_type": "code",
      "metadata": {
        "colab": {
          "base_uri": "https://localhost:8080/"
        },
        "id": "kBgVU_Ubpb0R",
        "outputId": "cd61d48e-728f-4490-d94f-c214be0c1a7e"
      },
      "source": [
        "pipe_sm = imbPipeline([('fillna', NaNImputer()),\n",
        "                       ('lng_imp', LongitudeImputer()),\n",
        "                       ('funder', FunderBinner()),\n",
        "                       ('installer', InstallerBinner()),\n",
        "                       ('col_tf', col_tranformer),\n",
        "                       ('sampler', SMOTE(random_state=2021, n_jobs=-1, sampling_strategy='minority')),\n",
        "                       ('rf', RandomForestClassifier(random_state=2021, criterion='entropy'))])\n",
        "\n",
        "scores_rf3 = cross_val_score(pipe_sm, X_tt, y_tt, scoring=scr_accuracy)"
      ],
      "execution_count": null,
      "outputs": [
        {
          "output_type": "stream",
          "text": [
            "                         precision    recall  f1-score   support\n",
            "\n",
            "             functional       0.80      0.83      0.82      3623\n",
            "functional needs repair       0.39      0.44      0.41       483\n",
            "         non functional       0.81      0.75      0.78      2573\n",
            "\n",
            "               accuracy                           0.77      6679\n",
            "              macro avg       0.67      0.67      0.67      6679\n",
            "           weighted avg       0.78      0.77      0.77      6679\n",
            "\n",
            "                         precision    recall  f1-score   support\n",
            "\n",
            "             functional       0.81      0.84      0.83      3623\n",
            "functional needs repair       0.41      0.45      0.43       483\n",
            "         non functional       0.82      0.77      0.79      2573\n",
            "\n",
            "               accuracy                           0.78      6679\n",
            "              macro avg       0.68      0.69      0.68      6679\n",
            "           weighted avg       0.79      0.78      0.78      6679\n",
            "\n",
            "                         precision    recall  f1-score   support\n",
            "\n",
            "             functional       0.80      0.84      0.82      3622\n",
            "functional needs repair       0.40      0.44      0.42       482\n",
            "         non functional       0.82      0.76      0.79      2574\n",
            "\n",
            "               accuracy                           0.78      6678\n",
            "              macro avg       0.68      0.68      0.68      6678\n",
            "           weighted avg       0.78      0.78      0.78      6678\n",
            "\n",
            "                         precision    recall  f1-score   support\n",
            "\n",
            "             functional       0.81      0.83      0.82      3622\n",
            "functional needs repair       0.39      0.45      0.42       482\n",
            "         non functional       0.82      0.76      0.79      2574\n",
            "\n",
            "               accuracy                           0.78      6678\n",
            "              macro avg       0.67      0.68      0.68      6678\n",
            "           weighted avg       0.78      0.78      0.78      6678\n",
            "\n",
            "                         precision    recall  f1-score   support\n",
            "\n",
            "             functional       0.80      0.84      0.82      3622\n",
            "functional needs repair       0.42      0.46      0.44       482\n",
            "         non functional       0.83      0.75      0.79      2574\n",
            "\n",
            "               accuracy                           0.78      6678\n",
            "              macro avg       0.68      0.68      0.68      6678\n",
            "           weighted avg       0.78      0.78      0.78      6678\n",
            "\n"
          ],
          "name": "stdout"
        }
      ]
    },
    {
      "cell_type": "code",
      "metadata": {
        "colab": {
          "base_uri": "https://localhost:8080/"
        },
        "id": "WRbCqjxYp254",
        "outputId": "b6e52ec1-0832-4191-ad21-1147c4146b49"
      },
      "source": [
        "scores_rf3.mean()"
      ],
      "execution_count": null,
      "outputs": [
        {
          "output_type": "execute_result",
          "data": {
            "text/plain": [
              "0.7780007525162008"
            ]
          },
          "metadata": {
            "tags": []
          },
          "execution_count": 47
        }
      ]
    },
    {
      "cell_type": "markdown",
      "metadata": {
        "id": "f4np2RpMs2Ih"
      },
      "source": [
        "2. `max_depth=75`"
      ]
    },
    {
      "cell_type": "code",
      "metadata": {
        "colab": {
          "base_uri": "https://localhost:8080/"
        },
        "id": "2yLLm9Weslmr",
        "outputId": "444c8a7a-503e-49d5-defc-0ae7fe0c3b7a"
      },
      "source": [
        "pipe_sm = imbPipeline([('fillna', NaNImputer()),\n",
        "                       ('lng_imp', LongitudeImputer()),\n",
        "                       ('funder', FunderBinner()),\n",
        "                       ('installer', InstallerBinner()),\n",
        "                       ('col_tf', col_tranformer),\n",
        "                       ('sampler', SMOTE(random_state=2021, n_jobs=-1, sampling_strategy='minority')),\n",
        "                       ('rf', RandomForestClassifier(random_state=2021, max_depth=75))])\n",
        "\n",
        "scores_rf4 = cross_val_score(pipe_sm, X_tt, y_tt, scoring=scr_accuracy)"
      ],
      "execution_count": null,
      "outputs": [
        {
          "output_type": "stream",
          "text": [
            "                         precision    recall  f1-score   support\n",
            "\n",
            "             functional       0.81      0.83      0.82      3623\n",
            "functional needs repair       0.40      0.46      0.43       483\n",
            "         non functional       0.81      0.76      0.78      2573\n",
            "\n",
            "               accuracy                           0.77      6679\n",
            "              macro avg       0.67      0.68      0.68      6679\n",
            "           weighted avg       0.78      0.77      0.78      6679\n",
            "\n",
            "                         precision    recall  f1-score   support\n",
            "\n",
            "             functional       0.82      0.84      0.83      3623\n",
            "functional needs repair       0.41      0.45      0.43       483\n",
            "         non functional       0.82      0.77      0.79      2573\n",
            "\n",
            "               accuracy                           0.79      6679\n",
            "              macro avg       0.68      0.69      0.68      6679\n",
            "           weighted avg       0.79      0.79      0.79      6679\n",
            "\n",
            "                         precision    recall  f1-score   support\n",
            "\n",
            "             functional       0.80      0.84      0.82      3622\n",
            "functional needs repair       0.40      0.43      0.41       482\n",
            "         non functional       0.82      0.76      0.79      2574\n",
            "\n",
            "               accuracy                           0.78      6678\n",
            "              macro avg       0.67      0.67      0.67      6678\n",
            "           weighted avg       0.78      0.78      0.78      6678\n",
            "\n",
            "                         precision    recall  f1-score   support\n",
            "\n",
            "             functional       0.81      0.83      0.82      3622\n",
            "functional needs repair       0.38      0.44      0.41       482\n",
            "         non functional       0.82      0.77      0.80      2574\n",
            "\n",
            "               accuracy                           0.78      6678\n",
            "              macro avg       0.67      0.68      0.68      6678\n",
            "           weighted avg       0.79      0.78      0.78      6678\n",
            "\n",
            "                         precision    recall  f1-score   support\n",
            "\n",
            "             functional       0.80      0.84      0.82      3622\n",
            "functional needs repair       0.42      0.46      0.44       482\n",
            "         non functional       0.82      0.76      0.79      2574\n",
            "\n",
            "               accuracy                           0.78      6678\n",
            "              macro avg       0.68      0.68      0.68      6678\n",
            "           weighted avg       0.78      0.78      0.78      6678\n",
            "\n"
          ],
          "name": "stdout"
        }
      ]
    },
    {
      "cell_type": "code",
      "metadata": {
        "colab": {
          "base_uri": "https://localhost:8080/"
        },
        "id": "9OL9hnVYs62A",
        "outputId": "d5662481-d12f-484d-f433-3d55e3ca4792"
      },
      "source": [
        "scores_rf4.mean()"
      ],
      "execution_count": null,
      "outputs": [
        {
          "output_type": "execute_result",
          "data": {
            "text/plain": [
              "0.7795579570427235"
            ]
          },
          "metadata": {
            "tags": []
          },
          "execution_count": 51
        }
      ]
    },
    {
      "cell_type": "markdown",
      "metadata": {
        "id": "Ur5oTshEvxMG"
      },
      "source": [
        "3. `max_depth=150`"
      ]
    },
    {
      "cell_type": "code",
      "metadata": {
        "colab": {
          "base_uri": "https://localhost:8080/"
        },
        "id": "GS_oWwUmvg0T",
        "outputId": "f6274e44-69cb-4a50-ebd5-4852cb2937ee"
      },
      "source": [
        "pipe_sm = imbPipeline([('fillna', NaNImputer()),\n",
        "                       ('lng_imp', LongitudeImputer()),\n",
        "                       ('funder', FunderBinner()),\n",
        "                       ('installer', InstallerBinner()),\n",
        "                       ('col_tf', col_tranformer),\n",
        "                       ('sampler', SMOTE(random_state=2021, n_jobs=-1, sampling_strategy='minority')),\n",
        "                       ('rf', RandomForestClassifier(random_state=2021, max_depth=150))])\n",
        "\n",
        "scores_rf4 = cross_val_score(pipe_sm, X_tt, y_tt, scoring=scr_accuracy)"
      ],
      "execution_count": null,
      "outputs": [
        {
          "output_type": "stream",
          "text": [
            "                         precision    recall  f1-score   support\n",
            "\n",
            "             functional       0.81      0.83      0.82      3623\n",
            "functional needs repair       0.40      0.46      0.43       483\n",
            "         non functional       0.81      0.76      0.78      2573\n",
            "\n",
            "               accuracy                           0.77      6679\n",
            "              macro avg       0.67      0.68      0.68      6679\n",
            "           weighted avg       0.78      0.77      0.78      6679\n",
            "\n",
            "                         precision    recall  f1-score   support\n",
            "\n",
            "             functional       0.82      0.84      0.83      3623\n",
            "functional needs repair       0.41      0.45      0.43       483\n",
            "         non functional       0.82      0.77      0.79      2573\n",
            "\n",
            "               accuracy                           0.79      6679\n",
            "              macro avg       0.68      0.69      0.68      6679\n",
            "           weighted avg       0.79      0.79      0.79      6679\n",
            "\n",
            "                         precision    recall  f1-score   support\n",
            "\n",
            "             functional       0.80      0.84      0.82      3622\n",
            "functional needs repair       0.40      0.43      0.41       482\n",
            "         non functional       0.82      0.76      0.79      2574\n",
            "\n",
            "               accuracy                           0.78      6678\n",
            "              macro avg       0.67      0.67      0.67      6678\n",
            "           weighted avg       0.78      0.78      0.78      6678\n",
            "\n",
            "                         precision    recall  f1-score   support\n",
            "\n",
            "             functional       0.81      0.83      0.82      3622\n",
            "functional needs repair       0.38      0.44      0.41       482\n",
            "         non functional       0.82      0.77      0.80      2574\n",
            "\n",
            "               accuracy                           0.78      6678\n",
            "              macro avg       0.67      0.68      0.68      6678\n",
            "           weighted avg       0.79      0.78      0.78      6678\n",
            "\n",
            "                         precision    recall  f1-score   support\n",
            "\n",
            "             functional       0.80      0.84      0.82      3622\n",
            "functional needs repair       0.42      0.46      0.44       482\n",
            "         non functional       0.82      0.76      0.79      2574\n",
            "\n",
            "               accuracy                           0.78      6678\n",
            "              macro avg       0.68      0.68      0.68      6678\n",
            "           weighted avg       0.78      0.78      0.78      6678\n",
            "\n"
          ],
          "name": "stdout"
        }
      ]
    },
    {
      "cell_type": "code",
      "metadata": {
        "colab": {
          "base_uri": "https://localhost:8080/"
        },
        "id": "BwMyQwcfvwXx",
        "outputId": "8bbfbef2-e3fe-4e6a-e2df-6f67af19970a"
      },
      "source": [
        "scores_rf4.mean()"
      ],
      "execution_count": null,
      "outputs": [
        {
          "output_type": "execute_result",
          "data": {
            "text/plain": [
              "0.0"
            ]
          },
          "metadata": {
            "tags": []
          },
          "execution_count": 54
        }
      ]
    },
    {
      "cell_type": "code",
      "metadata": {
        "id": "MTHdtikKyYcw"
      },
      "source": [
        "# GRID SEARCH --> unsuccessful\n",
        "param_grid = [{ \n",
        "    'rf__n_estimators': [200, 500],\n",
        "    'rf__max_features': ['auto', 'sqrt', 'log2'], \n",
        "    'rf__max_depth' : [10, 100, 200],\n",
        "    'rf__criterion' :['gini', 'entropy']\n",
        "}]\n",
        "\n",
        "pipe_sm = imbPipeline([('fillna', NaNImputer()),\n",
        "                       ('lng_imp', LongitudeImputer()),\n",
        "                       ('funder', FunderBinner()),\n",
        "                       ('installer', InstallerBinner()),\n",
        "                       ('col_tf', col_tranformer),\n",
        "                       ('sampler', SMOTE(random_state=2021, \n",
        "                                         sampling_strategy='minority')),\n",
        "                       ('rf', RandomForestClassifier(random_state=2021))])\n",
        "\n",
        "gridsearch = GridSearchCV(estimator=pipe_sm, param_grid=param_grid, \n",
        "                          scoring='accuracy', n_jobs=-1, cv=3, verbose=2)\n",
        "gridsearch.fit(X_tt, y_tt)\n"
      ],
      "execution_count": null,
      "outputs": []
    },
    {
      "cell_type": "markdown",
      "metadata": {
        "id": "jz3tz_JSpMQD"
      },
      "source": [
        "### 1.3. With Polynomial Features"
      ]
    },
    {
      "cell_type": "code",
      "metadata": {
        "colab": {
          "base_uri": "https://localhost:8080/"
        },
        "id": "iGTA2X0-790m",
        "outputId": "444a0529-cecb-400b-f0f0-db6544e9c44d"
      },
      "source": [
        "# max_depth = 200\n",
        "# polynomial with interaction_only = True\n",
        "pipe_sm = imbPipeline([('fillna', NaNImputer()),\n",
        "                       ('lng_imp', LongitudeImputer()),\n",
        "                       ('funder', FunderBinner()),\n",
        "                       ('installer', InstallerBinner()),\n",
        "                       ('col_tf', col_tranformer),\n",
        "                       ('poly', PolynomialFeatures(2, interaction_only=True)),\n",
        "                       ('sampler', SMOTE(random_state=2021, n_jobs=-1, sampling_strategy='minority')),\n",
        "                       ('rf', RandomForestClassifier(random_state=2021, max_depth=200))])\n",
        "\n",
        "scores_rf5 = cross_val_score(pipe_sm, X_tt, y_tt, scoring=scr_accuracy)"
      ],
      "execution_count": null,
      "outputs": [
        {
          "output_type": "stream",
          "text": [
            "                         precision    recall  f1-score   support\n",
            "\n",
            "             functional       0.80      0.84      0.82      3623\n",
            "functional needs repair       0.40      0.44      0.42       483\n",
            "         non functional       0.81      0.75      0.78      2573\n",
            "\n",
            "               accuracy                           0.77      6679\n",
            "              macro avg       0.67      0.68      0.67      6679\n",
            "           weighted avg       0.78      0.77      0.78      6679\n",
            "\n",
            "                         precision    recall  f1-score   support\n",
            "\n",
            "             functional       0.81      0.84      0.83      3623\n",
            "functional needs repair       0.41      0.43      0.42       483\n",
            "         non functional       0.82      0.77      0.79      2573\n",
            "\n",
            "               accuracy                           0.78      6679\n",
            "              macro avg       0.68      0.68      0.68      6679\n",
            "           weighted avg       0.79      0.78      0.79      6679\n",
            "\n",
            "                         precision    recall  f1-score   support\n",
            "\n",
            "             functional       0.80      0.84      0.82      3622\n",
            "functional needs repair       0.40      0.43      0.42       482\n",
            "         non functional       0.83      0.75      0.79      2574\n",
            "\n",
            "               accuracy                           0.78      6678\n",
            "              macro avg       0.68      0.68      0.68      6678\n",
            "           weighted avg       0.78      0.78      0.78      6678\n",
            "\n",
            "                         precision    recall  f1-score   support\n",
            "\n",
            "             functional       0.81      0.84      0.82      3622\n",
            "functional needs repair       0.38      0.42      0.40       482\n",
            "         non functional       0.83      0.76      0.79      2574\n",
            "\n",
            "               accuracy                           0.78      6678\n",
            "              macro avg       0.67      0.67      0.67      6678\n",
            "           weighted avg       0.78      0.78      0.78      6678\n",
            "\n",
            "                         precision    recall  f1-score   support\n",
            "\n",
            "             functional       0.80      0.85      0.82      3622\n",
            "functional needs repair       0.42      0.45      0.44       482\n",
            "         non functional       0.83      0.75      0.79      2574\n",
            "\n",
            "               accuracy                           0.78      6678\n",
            "              macro avg       0.68      0.68      0.68      6678\n",
            "           weighted avg       0.78      0.78      0.78      6678\n",
            "\n"
          ],
          "name": "stdout"
        }
      ]
    },
    {
      "cell_type": "code",
      "metadata": {
        "colab": {
          "base_uri": "https://localhost:8080/"
        },
        "id": "VthwyQXsm57D",
        "outputId": "66c1180c-a246-4b0a-e553-8626ceaf8470"
      },
      "source": [
        "scores_rf5.mean()"
      ],
      "execution_count": null,
      "outputs": [
        {
          "output_type": "execute_result",
          "data": {
            "text/plain": [
              "0.780396535950271"
            ]
          },
          "metadata": {
            "tags": []
          },
          "execution_count": 32
        }
      ]
    },
    {
      "cell_type": "code",
      "metadata": {
        "colab": {
          "base_uri": "https://localhost:8080/"
        },
        "id": "uL5cO8rKvxas",
        "outputId": "9dcfbd9a-cc15-4a67-9f62-a0ee11b0eb6c"
      },
      "source": [
        "# max_depth = 20\n",
        "# Polynomial(2) \n",
        "pipe_sm = imbPipeline([('fillna', NaNImputer()),\n",
        "                       ('lng_imp', LongitudeImputer()),\n",
        "                       ('funder', FunderBinner()),\n",
        "                       ('installer', InstallerBinner()),\n",
        "                       ('col_tf', col_tranformer),\n",
        "                       ('poly', PolynomialFeatures(2)),\n",
        "                       ('sampler', SMOTE(random_state=2021, n_jobs=-1, sampling_strategy='minority')),\n",
        "                       ('rf', RandomForestClassifier(random_state=2021, max_depth=20))])\n",
        "\n",
        "scores_rf5 = cross_val_score(pipe_sm, X_tt, y_tt, scoring=scr_accuracy)"
      ],
      "execution_count": null,
      "outputs": [
        {
          "output_type": "stream",
          "text": [
            "                         precision    recall  f1-score   support\n",
            "\n",
            "             functional       0.79      0.84      0.82      3623\n",
            "functional needs repair       0.34      0.55      0.42       483\n",
            "         non functional       0.87      0.70      0.77      2573\n",
            "\n",
            "               accuracy                           0.76      6679\n",
            "              macro avg       0.67      0.70      0.67      6679\n",
            "           weighted avg       0.79      0.76      0.77      6679\n",
            "\n",
            "                         precision    recall  f1-score   support\n",
            "\n",
            "             functional       0.80      0.85      0.83      3623\n",
            "functional needs repair       0.35      0.53      0.42       483\n",
            "         non functional       0.87      0.72      0.79      2573\n",
            "\n",
            "               accuracy                           0.77      6679\n",
            "              macro avg       0.67      0.70      0.68      6679\n",
            "           weighted avg       0.80      0.77      0.78      6679\n",
            "\n",
            "                         precision    recall  f1-score   support\n",
            "\n",
            "             functional       0.79      0.84      0.81      3622\n",
            "functional needs repair       0.33      0.52      0.40       482\n",
            "         non functional       0.88      0.70      0.78      2574\n",
            "\n",
            "               accuracy                           0.76      6678\n",
            "              macro avg       0.66      0.69      0.67      6678\n",
            "           weighted avg       0.79      0.76      0.77      6678\n",
            "\n",
            "                         precision    recall  f1-score   support\n",
            "\n",
            "             functional       0.79      0.85      0.82      3622\n",
            "functional needs repair       0.34      0.51      0.41       482\n",
            "         non functional       0.87      0.71      0.78      2574\n",
            "\n",
            "               accuracy                           0.77      6678\n",
            "              macro avg       0.67      0.69      0.67      6678\n",
            "           weighted avg       0.79      0.77      0.78      6678\n",
            "\n",
            "                         precision    recall  f1-score   support\n",
            "\n",
            "             functional       0.79      0.86      0.82      3622\n",
            "functional needs repair       0.34      0.51      0.41       482\n",
            "         non functional       0.88      0.70      0.78      2574\n",
            "\n",
            "               accuracy                           0.77      6678\n",
            "              macro avg       0.67      0.69      0.67      6678\n",
            "           weighted avg       0.79      0.77      0.78      6678\n",
            "\n"
          ],
          "name": "stdout"
        }
      ]
    },
    {
      "cell_type": "code",
      "metadata": {
        "colab": {
          "base_uri": "https://localhost:8080/"
        },
        "id": "Q7E5JSDnwYC5",
        "outputId": "bd30a42f-4998-4d40-c1e9-3b84ddba51d9"
      },
      "source": [
        "scores_rf5.mean()"
      ],
      "execution_count": null,
      "outputs": [
        {
          "output_type": "execute_result",
          "data": {
            "text/plain": [
              "0.7684774362398118"
            ]
          },
          "metadata": {
            "tags": []
          },
          "execution_count": 34
        }
      ]
    },
    {
      "cell_type": "code",
      "metadata": {
        "colab": {
          "base_uri": "https://localhost:8080/"
        },
        "id": "JkF76voa0bzB",
        "outputId": "a9baf662-e738-4dee-c577-a24c55a565d4"
      },
      "source": [
        "# max_depth = 300\n",
        "pipe_sm = imbPipeline([('fillna', NaNImputer()),\n",
        "                       ('lng_imp', LongitudeImputer()),\n",
        "                       ('funder', FunderBinner()),\n",
        "                       ('installer', InstallerBinner()),\n",
        "                       ('col_tf', col_tranformer),\n",
        "                       ('sampler', SMOTE(random_state=2021, n_jobs=-1, sampling_strategy='minority')),\n",
        "                       ('rf', RandomForestClassifier(random_state=2021, max_depth=300))])\n",
        "\n",
        "scores_rf6 = cross_val_score(pipe_sm, X_tt, y_tt, scoring=scr_accuracy)"
      ],
      "execution_count": null,
      "outputs": [
        {
          "output_type": "stream",
          "text": [
            "                         precision    recall  f1-score   support\n",
            "\n",
            "             functional       0.80      0.84      0.82      3623\n",
            "functional needs repair       0.41      0.43      0.42       483\n",
            "         non functional       0.81      0.75      0.78      2573\n",
            "\n",
            "               accuracy                           0.77      6679\n",
            "              macro avg       0.67      0.67      0.67      6679\n",
            "           weighted avg       0.78      0.77      0.78      6679\n",
            "\n",
            "                         precision    recall  f1-score   support\n",
            "\n",
            "             functional       0.81      0.84      0.83      3623\n",
            "functional needs repair       0.40      0.42      0.41       483\n",
            "         non functional       0.82      0.77      0.79      2573\n",
            "\n",
            "               accuracy                           0.78      6679\n",
            "              macro avg       0.68      0.68      0.68      6679\n",
            "           weighted avg       0.78      0.78      0.78      6679\n",
            "\n",
            "                         precision    recall  f1-score   support\n",
            "\n",
            "             functional       0.80      0.84      0.82      3622\n",
            "functional needs repair       0.41      0.43      0.42       482\n",
            "         non functional       0.83      0.76      0.80      2574\n",
            "\n",
            "               accuracy                           0.78      6678\n",
            "              macro avg       0.68      0.68      0.68      6678\n",
            "           weighted avg       0.79      0.78      0.78      6678\n",
            "\n",
            "                         precision    recall  f1-score   support\n",
            "\n",
            "             functional       0.81      0.84      0.82      3622\n",
            "functional needs repair       0.39      0.42      0.40       482\n",
            "         non functional       0.82      0.77      0.79      2574\n",
            "\n",
            "               accuracy                           0.78      6678\n",
            "              macro avg       0.67      0.67      0.67      6678\n",
            "           weighted avg       0.78      0.78      0.78      6678\n",
            "\n",
            "                         precision    recall  f1-score   support\n",
            "\n",
            "             functional       0.80      0.85      0.82      3622\n",
            "functional needs repair       0.42      0.43      0.42       482\n",
            "         non functional       0.82      0.75      0.79      2574\n",
            "\n",
            "               accuracy                           0.78      6678\n",
            "              macro avg       0.68      0.68      0.68      6678\n",
            "           weighted avg       0.78      0.78      0.78      6678\n",
            "\n"
          ],
          "name": "stdout"
        }
      ]
    },
    {
      "cell_type": "code",
      "metadata": {
        "colab": {
          "base_uri": "https://localhost:8080/"
        },
        "id": "Xvlsc-Gt0r9B",
        "outputId": "2a3ac72e-6441-4d72-d925-2effbb2dbdc0"
      },
      "source": [
        "scores_rf6.mean()"
      ],
      "execution_count": null,
      "outputs": [
        {
          "output_type": "execute_result",
          "data": {
            "text/plain": [
              "0.7797976080280232"
            ]
          },
          "metadata": {
            "tags": []
          },
          "execution_count": 37
        }
      ]
    },
    {
      "cell_type": "code",
      "metadata": {
        "colab": {
          "base_uri": "https://localhost:8080/"
        },
        "id": "aSHTjZhTIM1d",
        "outputId": "6da55f5a-c5e2-4de9-fba7-08cc31fb5c55"
      },
      "source": [
        "# max_depth = 100\n",
        "# polynomial with interaction_only = True\n",
        "# n_estimators = 200\n",
        "pipe_sm = imbPipeline([('fillna', NaNImputer()),\n",
        "                       ('lng_imp', LongitudeImputer()),\n",
        "                       ('funder', FunderBinner()),\n",
        "                       ('installer', InstallerBinner()),\n",
        "                       ('col_tf', col_tranformer),\n",
        "                       ('poly', PolynomialFeatures(2, interaction_only=True)),\n",
        "                       ('sampler', SMOTE(random_state=2021, n_jobs=-1, sampling_strategy='minority')),\n",
        "                       ('rf', RandomForestClassifier(random_state=2021, max_depth=100,\n",
        "                                                     n_estimators=200))])\n",
        "\n",
        "scores_rf5 = cross_val_score(pipe_sm, X_tt, y_tt, scoring=scr_accuracy)"
      ],
      "execution_count": null,
      "outputs": [
        {
          "output_type": "stream",
          "text": [
            "                         precision    recall  f1-score   support\n",
            "\n",
            "             functional       0.81      0.84      0.82      3623\n",
            "functional needs repair       0.40      0.44      0.42       483\n",
            "         non functional       0.82      0.75      0.78      2573\n",
            "\n",
            "               accuracy                           0.78      6679\n",
            "              macro avg       0.67      0.68      0.67      6679\n",
            "           weighted avg       0.78      0.78      0.78      6679\n",
            "\n",
            "                         precision    recall  f1-score   support\n",
            "\n",
            "             functional       0.81      0.84      0.82      3623\n",
            "functional needs repair       0.41      0.43      0.42       483\n",
            "         non functional       0.82      0.76      0.79      2573\n",
            "\n",
            "               accuracy                           0.78      6679\n",
            "              macro avg       0.68      0.68      0.68      6679\n",
            "           weighted avg       0.78      0.78      0.78      6679\n",
            "\n",
            "                         precision    recall  f1-score   support\n",
            "\n",
            "             functional       0.80      0.84      0.82      3622\n",
            "functional needs repair       0.40      0.43      0.41       482\n",
            "         non functional       0.84      0.76      0.79      2574\n",
            "\n",
            "               accuracy                           0.78      6678\n",
            "              macro avg       0.68      0.68      0.68      6678\n",
            "           weighted avg       0.78      0.78      0.78      6678\n",
            "\n",
            "                         precision    recall  f1-score   support\n",
            "\n",
            "             functional       0.81      0.84      0.82      3622\n",
            "functional needs repair       0.39      0.43      0.41       482\n",
            "         non functional       0.82      0.76      0.79      2574\n",
            "\n",
            "               accuracy                           0.78      6678\n",
            "              macro avg       0.67      0.68      0.67      6678\n",
            "           weighted avg       0.78      0.78      0.78      6678\n",
            "\n",
            "                         precision    recall  f1-score   support\n",
            "\n",
            "             functional       0.80      0.85      0.82      3622\n",
            "functional needs repair       0.42      0.45      0.43       482\n",
            "         non functional       0.83      0.76      0.79      2574\n",
            "\n",
            "               accuracy                           0.78      6678\n",
            "              macro avg       0.68      0.68      0.68      6678\n",
            "           weighted avg       0.79      0.78      0.78      6678\n",
            "\n"
          ],
          "name": "stdout"
        }
      ]
    },
    {
      "cell_type": "markdown",
      "metadata": {
        "id": "gZQ48FZRbXdl"
      },
      "source": [
        "### Model Evaluation"
      ]
    },
    {
      "cell_type": "code",
      "metadata": {
        "colab": {
          "base_uri": "https://localhost:8080/"
        },
        "id": "pz2k45qTI8ty",
        "outputId": "59afb8b0-7bac-4627-d262-a3fd59f1b378"
      },
      "source": [
        "scores_rf5.mean()"
      ],
      "execution_count": null,
      "outputs": [
        {
          "output_type": "execute_result",
          "data": {
            "text/plain": [
              "0.7805463262237098"
            ]
          },
          "metadata": {
            "tags": []
          },
          "execution_count": 39
        }
      ]
    },
    {
      "cell_type": "code",
      "metadata": {
        "id": "S5i0fq9eS0E2"
      },
      "source": [
        "# FIT MODEL ON THE WHOLE TRAINING DATA X_tt AND y_tt\n",
        "rf5 = pipe_sm.fit(X_tt, y_tt)"
      ],
      "execution_count": null,
      "outputs": []
    },
    {
      "cell_type": "code",
      "metadata": {
        "colab": {
          "base_uri": "https://localhost:8080/",
          "height": 1000
        },
        "id": "UhCe8v9uTNkv",
        "outputId": "5b3555ff-071f-4f6b-af37-8f444acdd9bc"
      },
      "source": [
        "ohe_cols = pipe_sm[4].named_transformers_['cat'][0].get_feature_names(input_features=categorical_features)\n",
        "cont_cat = numerical_features + list(ohe_cols)\n",
        "col_names = pipe_sm[5].get_feature_names(input_features=cont_cat)\n",
        "\n",
        "feature_importances = pd.DataFrame({'feature': col_names,\n",
        "                                   'score': pipe_sm[7].feature_importances_}).sort_values(by='score', ascending=False)\n",
        "feature_importances[:50]"
      ],
      "execution_count": null,
      "outputs": [
        {
          "output_type": "execute_result",
          "data": {
            "text/html": [
              "<div>\n",
              "<style scoped>\n",
              "    .dataframe tbody tr th:only-of-type {\n",
              "        vertical-align: middle;\n",
              "    }\n",
              "\n",
              "    .dataframe tbody tr th {\n",
              "        vertical-align: top;\n",
              "    }\n",
              "\n",
              "    .dataframe thead th {\n",
              "        text-align: right;\n",
              "    }\n",
              "</style>\n",
              "<table border=\"1\" class=\"dataframe\">\n",
              "  <thead>\n",
              "    <tr style=\"text-align: right;\">\n",
              "      <th></th>\n",
              "      <th>feature</th>\n",
              "      <th>score</th>\n",
              "    </tr>\n",
              "  </thead>\n",
              "  <tbody>\n",
              "    <tr>\n",
              "      <th>725</th>\n",
              "      <td>year_recorded quantity_dry</td>\n",
              "      <td>0.005925</td>\n",
              "    </tr>\n",
              "    <tr>\n",
              "      <th>347</th>\n",
              "      <td>gps_height quantity_dry</td>\n",
              "      <td>0.005656</td>\n",
              "    </tr>\n",
              "    <tr>\n",
              "      <th>644</th>\n",
              "      <td>year_recorded longitude</td>\n",
              "      <td>0.005273</td>\n",
              "    </tr>\n",
              "    <tr>\n",
              "      <th>770</th>\n",
              "      <td>age_recorded nearest_big_city_distance</td>\n",
              "      <td>0.004805</td>\n",
              "    </tr>\n",
              "    <tr>\n",
              "      <th>90</th>\n",
              "      <td>quantity_dry</td>\n",
              "      <td>0.004744</td>\n",
              "    </tr>\n",
              "    <tr>\n",
              "      <th>768</th>\n",
              "      <td>age_recorded longitude</td>\n",
              "      <td>0.004685</td>\n",
              "    </tr>\n",
              "    <tr>\n",
              "      <th>769</th>\n",
              "      <td>age_recorded latitude</td>\n",
              "      <td>0.004675</td>\n",
              "    </tr>\n",
              "    <tr>\n",
              "      <th>9</th>\n",
              "      <td>longitude</td>\n",
              "      <td>0.004582</td>\n",
              "    </tr>\n",
              "    <tr>\n",
              "      <th>1136</th>\n",
              "      <td>longitude nearest_big_city_distance</td>\n",
              "      <td>0.004328</td>\n",
              "    </tr>\n",
              "    <tr>\n",
              "      <th>1135</th>\n",
              "      <td>longitude latitude</td>\n",
              "      <td>0.004314</td>\n",
              "    </tr>\n",
              "    <tr>\n",
              "      <th>10</th>\n",
              "      <td>latitude</td>\n",
              "      <td>0.004270</td>\n",
              "    </tr>\n",
              "    <tr>\n",
              "      <th>645</th>\n",
              "      <td>year_recorded latitude</td>\n",
              "      <td>0.004227</td>\n",
              "    </tr>\n",
              "    <tr>\n",
              "      <th>646</th>\n",
              "      <td>year_recorded nearest_big_city_distance</td>\n",
              "      <td>0.004221</td>\n",
              "    </tr>\n",
              "    <tr>\n",
              "      <th>267</th>\n",
              "      <td>gps_height latitude</td>\n",
              "      <td>0.004105</td>\n",
              "    </tr>\n",
              "    <tr>\n",
              "      <th>1256</th>\n",
              "      <td>latitude nearest_big_city_distance</td>\n",
              "      <td>0.004095</td>\n",
              "    </tr>\n",
              "    <tr>\n",
              "      <th>1440</th>\n",
              "      <td>nearest_big_city_distance management_group_use...</td>\n",
              "      <td>0.004054</td>\n",
              "    </tr>\n",
              "    <tr>\n",
              "      <th>1173</th>\n",
              "      <td>longitude public_meeting_True</td>\n",
              "      <td>0.004044</td>\n",
              "    </tr>\n",
              "    <tr>\n",
              "      <th>1211</th>\n",
              "      <td>longitude quality_group_good</td>\n",
              "      <td>0.004012</td>\n",
              "    </tr>\n",
              "    <tr>\n",
              "      <th>266</th>\n",
              "      <td>gps_height longitude</td>\n",
              "      <td>0.003973</td>\n",
              "    </tr>\n",
              "    <tr>\n",
              "      <th>1220</th>\n",
              "      <td>longitude source_class_groundwater</td>\n",
              "      <td>0.003967</td>\n",
              "    </tr>\n",
              "    <tr>\n",
              "      <th>268</th>\n",
              "      <td>gps_height nearest_big_city_distance</td>\n",
              "      <td>0.003943</td>\n",
              "    </tr>\n",
              "    <tr>\n",
              "      <th>11</th>\n",
              "      <td>nearest_big_city_distance</td>\n",
              "      <td>0.003904</td>\n",
              "    </tr>\n",
              "    <tr>\n",
              "      <th>1429</th>\n",
              "      <td>nearest_big_city_distance extraction_type_clas...</td>\n",
              "      <td>0.003874</td>\n",
              "    </tr>\n",
              "    <tr>\n",
              "      <th>1013</th>\n",
              "      <td>nearest_big_city_population longitude</td>\n",
              "      <td>0.003836</td>\n",
              "    </tr>\n",
              "    <tr>\n",
              "      <th>1293</th>\n",
              "      <td>latitude public_meeting_True</td>\n",
              "      <td>0.003817</td>\n",
              "    </tr>\n",
              "    <tr>\n",
              "      <th>1201</th>\n",
              "      <td>longitude management_group_user-group</td>\n",
              "      <td>0.003816</td>\n",
              "    </tr>\n",
              "    <tr>\n",
              "      <th>1215</th>\n",
              "      <td>longitude quantity_dry</td>\n",
              "      <td>0.003809</td>\n",
              "    </tr>\n",
              "    <tr>\n",
              "      <th>1321</th>\n",
              "      <td>latitude management_group_user-group</td>\n",
              "      <td>0.003765</td>\n",
              "    </tr>\n",
              "    <tr>\n",
              "      <th>1450</th>\n",
              "      <td>nearest_big_city_distance quality_group_good</td>\n",
              "      <td>0.003733</td>\n",
              "    </tr>\n",
              "    <tr>\n",
              "      <th>1412</th>\n",
              "      <td>nearest_big_city_distance public_meeting_True</td>\n",
              "      <td>0.003730</td>\n",
              "    </tr>\n",
              "    <tr>\n",
              "      <th>1015</th>\n",
              "      <td>nearest_big_city_population nearest_big_city_d...</td>\n",
              "      <td>0.003717</td>\n",
              "    </tr>\n",
              "    <tr>\n",
              "      <th>1331</th>\n",
              "      <td>latitude quality_group_good</td>\n",
              "      <td>0.003665</td>\n",
              "    </tr>\n",
              "    <tr>\n",
              "      <th>1216</th>\n",
              "      <td>longitude quantity_enough</td>\n",
              "      <td>0.003620</td>\n",
              "    </tr>\n",
              "    <tr>\n",
              "      <th>1310</th>\n",
              "      <td>latitude extraction_type_class_gravity</td>\n",
              "      <td>0.003615</td>\n",
              "    </tr>\n",
              "    <tr>\n",
              "      <th>1014</th>\n",
              "      <td>nearest_big_city_population latitude</td>\n",
              "      <td>0.003613</td>\n",
              "    </tr>\n",
              "    <tr>\n",
              "      <th>1336</th>\n",
              "      <td>latitude quantity_enough</td>\n",
              "      <td>0.003434</td>\n",
              "    </tr>\n",
              "    <tr>\n",
              "      <th>7044</th>\n",
              "      <td>management_group_user-group quantity_dry</td>\n",
              "      <td>0.003328</td>\n",
              "    </tr>\n",
              "    <tr>\n",
              "      <th>1190</th>\n",
              "      <td>longitude extraction_type_class_gravity</td>\n",
              "      <td>0.003295</td>\n",
              "    </tr>\n",
              "    <tr>\n",
              "      <th>1094</th>\n",
              "      <td>nearest_big_city_population quantity_dry</td>\n",
              "      <td>0.003269</td>\n",
              "    </tr>\n",
              "    <tr>\n",
              "      <th>6</th>\n",
              "      <td>age_recorded</td>\n",
              "      <td>0.003256</td>\n",
              "    </tr>\n",
              "    <tr>\n",
              "      <th>1340</th>\n",
              "      <td>latitude source_class_groundwater</td>\n",
              "      <td>0.003190</td>\n",
              "    </tr>\n",
              "    <tr>\n",
              "      <th>1455</th>\n",
              "      <td>nearest_big_city_distance quantity_enough</td>\n",
              "      <td>0.003156</td>\n",
              "    </tr>\n",
              "    <tr>\n",
              "      <th>1257</th>\n",
              "      <td>latitude funder_major</td>\n",
              "      <td>0.003142</td>\n",
              "    </tr>\n",
              "    <tr>\n",
              "      <th>1139</th>\n",
              "      <td>longitude installer_major</td>\n",
              "      <td>0.003127</td>\n",
              "    </tr>\n",
              "    <tr>\n",
              "      <th>1344</th>\n",
              "      <td>latitude waterpoint_type_group_communal standpipe</td>\n",
              "      <td>0.003116</td>\n",
              "    </tr>\n",
              "    <tr>\n",
              "      <th>1459</th>\n",
              "      <td>nearest_big_city_distance source_class_groundw...</td>\n",
              "      <td>0.003111</td>\n",
              "    </tr>\n",
              "    <tr>\n",
              "      <th>4</th>\n",
              "      <td>construction_year</td>\n",
              "      <td>0.003098</td>\n",
              "    </tr>\n",
              "    <tr>\n",
              "      <th>1376</th>\n",
              "      <td>nearest_big_city_distance funder_major</td>\n",
              "      <td>0.003055</td>\n",
              "    </tr>\n",
              "    <tr>\n",
              "      <th>1137</th>\n",
              "      <td>longitude funder_major</td>\n",
              "      <td>0.003041</td>\n",
              "    </tr>\n",
              "    <tr>\n",
              "      <th>1302</th>\n",
              "      <td>latitude scheme_management_VWC</td>\n",
              "      <td>0.003009</td>\n",
              "    </tr>\n",
              "  </tbody>\n",
              "</table>\n",
              "</div>"
            ],
            "text/plain": [
              "                                                feature     score\n",
              "725                          year_recorded quantity_dry  0.005925\n",
              "347                             gps_height quantity_dry  0.005656\n",
              "644                             year_recorded longitude  0.005273\n",
              "770              age_recorded nearest_big_city_distance  0.004805\n",
              "90                                         quantity_dry  0.004744\n",
              "768                              age_recorded longitude  0.004685\n",
              "769                               age_recorded latitude  0.004675\n",
              "9                                             longitude  0.004582\n",
              "1136                longitude nearest_big_city_distance  0.004328\n",
              "1135                                 longitude latitude  0.004314\n",
              "10                                             latitude  0.004270\n",
              "645                              year_recorded latitude  0.004227\n",
              "646             year_recorded nearest_big_city_distance  0.004221\n",
              "267                                 gps_height latitude  0.004105\n",
              "1256                 latitude nearest_big_city_distance  0.004095\n",
              "1440  nearest_big_city_distance management_group_use...  0.004054\n",
              "1173                      longitude public_meeting_True  0.004044\n",
              "1211                       longitude quality_group_good  0.004012\n",
              "266                                gps_height longitude  0.003973\n",
              "1220                 longitude source_class_groundwater  0.003967\n",
              "268                gps_height nearest_big_city_distance  0.003943\n",
              "11                            nearest_big_city_distance  0.003904\n",
              "1429  nearest_big_city_distance extraction_type_clas...  0.003874\n",
              "1013              nearest_big_city_population longitude  0.003836\n",
              "1293                       latitude public_meeting_True  0.003817\n",
              "1201              longitude management_group_user-group  0.003816\n",
              "1215                             longitude quantity_dry  0.003809\n",
              "1321               latitude management_group_user-group  0.003765\n",
              "1450       nearest_big_city_distance quality_group_good  0.003733\n",
              "1412      nearest_big_city_distance public_meeting_True  0.003730\n",
              "1015  nearest_big_city_population nearest_big_city_d...  0.003717\n",
              "1331                        latitude quality_group_good  0.003665\n",
              "1216                          longitude quantity_enough  0.003620\n",
              "1310             latitude extraction_type_class_gravity  0.003615\n",
              "1014               nearest_big_city_population latitude  0.003613\n",
              "1336                           latitude quantity_enough  0.003434\n",
              "7044           management_group_user-group quantity_dry  0.003328\n",
              "1190            longitude extraction_type_class_gravity  0.003295\n",
              "1094           nearest_big_city_population quantity_dry  0.003269\n",
              "6                                          age_recorded  0.003256\n",
              "1340                  latitude source_class_groundwater  0.003190\n",
              "1455          nearest_big_city_distance quantity_enough  0.003156\n",
              "1257                              latitude funder_major  0.003142\n",
              "1139                          longitude installer_major  0.003127\n",
              "1344  latitude waterpoint_type_group_communal standpipe  0.003116\n",
              "1459  nearest_big_city_distance source_class_groundw...  0.003111\n",
              "4                                     construction_year  0.003098\n",
              "1376             nearest_big_city_distance funder_major  0.003055\n",
              "1137                             longitude funder_major  0.003041\n",
              "1302                     latitude scheme_management_VWC  0.003009"
            ]
          },
          "metadata": {
            "tags": []
          },
          "execution_count": 59
        }
      ]
    },
    {
      "cell_type": "code",
      "metadata": {
        "colab": {
          "base_uri": "https://localhost:8080/",
          "height": 1000
        },
        "id": "m8t9QfejZJ1E",
        "outputId": "ceed53e1-8a20-46a8-b792-936d1a6fbe70"
      },
      "source": [
        "# FEATURE IMPORTANCES VISUALIZATION\n",
        "fig, ax = plt.subplots(1, figsize=(15, 25))\n",
        "ax = sns.barplot(x='score', y='feature', data=feature_importances[:50]);"
      ],
      "execution_count": null,
      "outputs": [
        {
          "output_type": "display_data",
          "data": {
            "image/png": "[encoded data removed]",
            "text/plain": [
              "<Figure size 1080x1800 with 1 Axes>"
            ]
          },
          "metadata": {
            "tags": [],
            "needs_background": "light"
          }
        }
      ]
    },
    {
      "cell_type": "code",
      "metadata": {
        "id": "fK0Tg37VaB5k"
      },
      "source": [
        "# MAKE PREDICTIONS ON TRAINING SET\n",
        "y_tt_pred = rf5.predict(X_tt)"
      ],
      "execution_count": null,
      "outputs": []
    },
    {
      "cell_type": "code",
      "metadata": {
        "colab": {
          "base_uri": "https://localhost:8080/"
        },
        "id": "t18rlajVajnM",
        "outputId": "a63f4514-e988-43a9-e3de-29c244771f66"
      },
      "source": [
        "print(classification_report(y_tt, y_tt_pred))"
      ],
      "execution_count": null,
      "outputs": [
        {
          "output_type": "stream",
          "text": [
            "                         precision    recall  f1-score   support\n",
            "\n",
            "             functional       0.91      0.96      0.93     18112\n",
            "functional needs repair       0.79      0.76      0.78      2412\n",
            "         non functional       0.96      0.88      0.92     12868\n",
            "\n",
            "               accuracy                           0.92     33392\n",
            "              macro avg       0.89      0.87      0.88     33392\n",
            "           weighted avg       0.92      0.92      0.92     33392\n",
            "\n"
          ],
          "name": "stdout"
        }
      ]
    },
    {
      "cell_type": "code",
      "metadata": {
        "colab": {
          "base_uri": "https://localhost:8080/"
        },
        "id": "NYtXnM4oc2yY",
        "outputId": "06377976-c3b2-4587-cdaa-19a434d4e193"
      },
      "source": [
        "labels = y_tt.unique()\n",
        "confusion_matx = confusion_matrix(y_tt, y_tt_pred, labels=labels)\n",
        "\n",
        "confusion_matx"
      ],
      "execution_count": null,
      "outputs": [
        {
          "output_type": "execute_result",
          "data": {
            "text/plain": [
              "array([[17465,   391,   256],\n",
              "       [ 1346, 11302,   220],\n",
              "       [  485,    92,  1835]])"
            ]
          },
          "metadata": {
            "tags": []
          },
          "execution_count": 78
        }
      ]
    },
    {
      "cell_type": "code",
      "metadata": {
        "colab": {
          "base_uri": "https://localhost:8080/",
          "height": 460
        },
        "id": "_zG6JLb7dxFf",
        "outputId": "8f4ae02a-5459-4866-b781-ed2d74286447"
      },
      "source": [
        "df_cm = pd.DataFrame(confusion_matx, index=labels, columns=labels)\n",
        "plt.figure(figsize = (10,7))\n",
        "sns.heatmap(df_cm, annot=True, cmap=\"BuPu\");"
      ],
      "execution_count": null,
      "outputs": [
        {
          "output_type": "display_data",
          "data": {
            "image/png": "[encoded data removed]",
            "text/plain": [
              "<Figure size 720x504 with 2 Axes>"
            ]
          },
          "metadata": {
            "tags": [],
            "needs_background": "light"
          }
        }
      ]
    },
    {
      "cell_type": "code",
      "metadata": {
        "colab": {
          "base_uri": "https://localhost:8080/"
        },
        "id": "mhNUMEq9bGAS",
        "outputId": "4db7bf31-325b-4b08-d821-47bcaa63a744"
      },
      "source": [
        "# CREATE NEW FEATURES IN VALIDATION SET X_val\n",
        "union.transform(X_val)"
      ],
      "execution_count": null,
      "outputs": [
        {
          "output_type": "execute_result",
          "data": {
            "text/plain": [
              "array([DateTransformer(), FeatureGenerator()], dtype=object)"
            ]
          },
          "metadata": {
            "tags": []
          },
          "execution_count": 64
        }
      ]
    },
    {
      "cell_type": "code",
      "metadata": {
        "id": "VD0WBeDYbjZN"
      },
      "source": [
        "# MAKE PREDICTIONS ON VALIDATION SET\n",
        "y_val_pred = rf5.predict(X_val)"
      ],
      "execution_count": null,
      "outputs": []
    },
    {
      "cell_type": "code",
      "metadata": {
        "colab": {
          "base_uri": "https://localhost:8080/"
        },
        "id": "KBSVfqLegJXL",
        "outputId": "686d8aee-9d14-48c7-d15c-f99c38b60e84"
      },
      "source": [
        "print(classification_report(y_val, y_val_pred))"
      ],
      "execution_count": null,
      "outputs": [
        {
          "output_type": "stream",
          "text": [
            "                         precision    recall  f1-score   support\n",
            "\n",
            "             functional       0.81      0.85      0.83      6038\n",
            "functional needs repair       0.41      0.46      0.44       819\n",
            "         non functional       0.84      0.76      0.80      4274\n",
            "\n",
            "               accuracy                           0.79     11131\n",
            "              macro avg       0.69      0.69      0.69     11131\n",
            "           weighted avg       0.79      0.79      0.79     11131\n",
            "\n"
          ],
          "name": "stdout"
        }
      ]
    },
    {
      "cell_type": "code",
      "metadata": {
        "colab": {
          "base_uri": "https://localhost:8080/"
        },
        "id": "MbFXh58tf7_U",
        "outputId": "6780075b-7c70-4fde-aeb5-90ce19a3e5c1"
      },
      "source": [
        "confusion_matx_val = confusion_matrix(y_val, y_val_pred, labels=labels)\n",
        "\n",
        "confusion_matx_val"
      ],
      "execution_count": null,
      "outputs": [
        {
          "output_type": "execute_result",
          "data": {
            "text/plain": [
              "array([[5121,  514,  403],\n",
              "       [ 872, 3266,  136],\n",
              "       [ 324,  117,  378]])"
            ]
          },
          "metadata": {
            "tags": []
          },
          "execution_count": 83
        }
      ]
    },
    {
      "cell_type": "code",
      "metadata": {
        "colab": {
          "base_uri": "https://localhost:8080/",
          "height": 460
        },
        "id": "Da7mdgZKgRpT",
        "outputId": "6069ef83-efb1-41c1-d24c-1b4b5ed8e877"
      },
      "source": [
        "df_cm = pd.DataFrame(confusion_matx_val, index=labels, columns=labels)\n",
        "plt.figure(figsize = (10,7))\n",
        "sns.heatmap(df_cm, annot=True, cmap=\"BuPu\");"
      ],
      "execution_count": null,
      "outputs": [
        {
          "output_type": "display_data",
          "data": {
            "image/png": "[encoded data removed]",
            "text/plain": [
              "<Figure size 720x504 with 2 Axes>"
            ]
          },
          "metadata": {
            "tags": [],
            "needs_background": "light"
          }
        }
      ]
    },
    {
      "cell_type": "code",
      "metadata": {
        "id": "i_VlCcSTgVSY"
      },
      "source": [
        "# CREATE NEW FEATURES IN MASTER TRAINING SET X_train\n",
        "union.transform(X_train)\n",
        "\n",
        "# FIT MODEL ON THE WHOLE TRAINING DATA X_train AND y_train\n",
        "rf5 = pipe_sm.fit(X_train, y_train)"
      ],
      "execution_count": null,
      "outputs": []
    },
    {
      "cell_type": "code",
      "metadata": {
        "colab": {
          "base_uri": "https://localhost:8080/"
        },
        "id": "MK4RtTa8iMfs",
        "outputId": "f2f4701b-86a5-47e3-dc28-0557cb98a213"
      },
      "source": [
        "# MAKE PREDICTIONS ON VALIDATION SET\n",
        "y_train_pred = rf5.predict(X_train)\n",
        "print(classification_report(y_train, y_train_pred))"
      ],
      "execution_count": null,
      "outputs": [
        {
          "output_type": "stream",
          "text": [
            "                         precision    recall  f1-score   support\n",
            "\n",
            "             functional       1.00      0.99      1.00     24150\n",
            "functional needs repair       0.95      0.99      0.97      3231\n",
            "         non functional       1.00      1.00      1.00     17142\n",
            "\n",
            "               accuracy                           0.99     44523\n",
            "              macro avg       0.98      0.99      0.99     44523\n",
            "           weighted avg       0.99      0.99      0.99     44523\n",
            "\n"
          ],
          "name": "stdout"
        }
      ]
    },
    {
      "cell_type": "code",
      "metadata": {
        "colab": {
          "base_uri": "https://localhost:8080/"
        },
        "id": "LqBik6K4o5q7",
        "outputId": "af3df7fc-402e-4b12-fc98-66f6fcd1c13b"
      },
      "source": [
        "# CREATE NEW FEATURES IN MASTER TESTING SET X_test\n",
        "union.transform(X_test)\n",
        "\n",
        "# MAKE PREDICTIONS ON TEST SET\n",
        "y_test_pred = rf5.predict(X_test)\n",
        "print(classification_report(y_test, y_test_pred))"
      ],
      "execution_count": null,
      "outputs": [
        {
          "output_type": "stream",
          "text": [
            "                         precision    recall  f1-score   support\n",
            "\n",
            "             functional       0.80      0.86      0.83      8087\n",
            "functional needs repair       0.38      0.43      0.41      1083\n",
            "         non functional       0.86      0.75      0.80      5671\n",
            "\n",
            "               accuracy                           0.79     14841\n",
            "              macro avg       0.68      0.68      0.68     14841\n",
            "           weighted avg       0.79      0.79      0.79     14841\n",
            "\n"
          ],
          "name": "stdout"
        }
      ]
    },
    {
      "cell_type": "code",
      "metadata": {
        "colab": {
          "base_uri": "https://localhost:8080/",
          "height": 460
        },
        "id": "C4vehtWdqclM",
        "outputId": "fb95248b-f6a0-4097-e443-676f4f84d175"
      },
      "source": [
        "df_cm = pd.DataFrame(confusion_matrix(y_val, y_val_pred, labels=labels), \n",
        "                     index=labels, columns=labels)\n",
        "plt.figure(figsize = (10,7))\n",
        "sns.heatmap(df_cm, annot=True, cmap=\"BuPu\");"
      ],
      "execution_count": null,
      "outputs": [
        {
          "output_type": "display_data",
          "data": {
            "image/png": "[encoded data removed]",
            "text/plain": [
              "<Figure size 720x504 with 2 Axes>"
            ]
          },
          "metadata": {
            "tags": [],
            "needs_background": "light"
          }
        }
      ]
    },
    {
      "cell_type": "code",
      "metadata": {
        "id": "FeYrNp2sriCy"
      },
      "source": [
        ""
      ],
      "execution_count": null,
      "outputs": []
    }
  ]
}