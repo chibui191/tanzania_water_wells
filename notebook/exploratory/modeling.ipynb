{
 "cells": [
  {
   "cell_type": "code",
   "execution_count": 1,
   "metadata": {},
   "outputs": [],
   "source": [
    "%load_ext autoreload\n",
    "%autoreload 2"
   ]
  },
  {
   "cell_type": "code",
   "execution_count": 32,
   "metadata": {},
   "outputs": [],
   "source": [
    "import numpy as np\n",
    "import pandas as pd\n",
    "import matplotlib.pyplot as plt\n",
    "import seaborn as sns\n",
    "\n",
    "from sklearn.metrics import classification_report, accuracy_score, make_scorer, roc_auc_score\n",
    "from sklearn.preprocessing import (LabelEncoder, OneHotEncoder, StandardScaler, MinMaxScaler, \n",
    "                                   RobustScaler)\n",
    "from sklearn.model_selection import train_test_split, cross_val_score, KFold, GridSearchCV\n",
    "from sklearn.linear_model import LogisticRegression\n",
    "from sklearn.pipeline import Pipeline, make_pipeline\n",
    "from sklearn.feature_selection import SelectKBest, chi2, f_regression\n",
    "from sklearn.neighbors import KNeighborsClassifier\n",
    "from sklearn.tree import DecisionTreeClassifier\n",
    "from xgboost import XGBClassifier\n",
    "\n",
    "%matplotlib inline"
   ]
  },
  {
   "cell_type": "code",
   "execution_count": 4,
   "metadata": {},
   "outputs": [],
   "source": [
    "X_train_master2 = pd.read_pickle('data/X_train_master2.pkl')\n",
    "X_train_best50_2 = pd.read_pickle('data/X_train_best50_2.pkl')\n",
    "X_test = pd.read_pickle('data/X_test.pkl')\n",
    "y_train = pd.read_pickle('data/y_train.pkl')\n",
    "y_test = pd.read_pickle('data/y_test.pkl')"
   ]
  },
  {
   "cell_type": "markdown",
   "metadata": {},
   "source": [
    "### Split training dataset into training & validation sets"
   ]
  },
  {
   "cell_type": "code",
   "execution_count": 54,
   "metadata": {},
   "outputs": [],
   "source": [
    "X_tt, X_val, y_tt, y_val = train_test_split(X_train_best50_2, y_train, random_state=2021)"
   ]
  },
  {
   "cell_type": "markdown",
   "metadata": {},
   "source": [
    "### `KNeighborClassifer` with `SMOTE`"
   ]
  },
  {
   "cell_type": "code",
   "execution_count": 5,
   "metadata": {},
   "outputs": [],
   "source": [
    "def classification_report_with_accuracy_score(y_true, y_pred):\n",
    "    print(classification_report(y_true, y_pred))\n",
    "    return accuracy_score(y_true, y_pred)\n",
    "\n",
    "scoring = make_scorer(classification_report_with_accuracy_score)"
   ]
  },
  {
   "cell_type": "code",
   "execution_count": 36,
   "metadata": {},
   "outputs": [],
   "source": [
    "def classification_report_with_recall_score(y_true, y_pred):\n",
    "    print(classification_report(y_true, y_pred))\n",
    "    return recall_score(y_true, y_pred)\n",
    "\n",
    "recall = make_scorer(classification_report_with_accuracy_score)"
   ]
  },
  {
   "cell_type": "code",
   "execution_count": 6,
   "metadata": {},
   "outputs": [
    {
     "name": "stdout",
     "output_type": "stream",
     "text": [
      "                         precision    recall  f1-score   support\n",
      "\n",
      "             functional       0.79      0.84      0.82      4830\n",
      "functional needs repair       0.47      0.34      0.39       646\n",
      "         non functional       0.79      0.76      0.77      3429\n",
      "\n",
      "               accuracy                           0.77      8905\n",
      "              macro avg       0.69      0.65      0.66      8905\n",
      "           weighted avg       0.77      0.77      0.77      8905\n",
      "\n",
      "                         precision    recall  f1-score   support\n",
      "\n",
      "             functional       0.78      0.86      0.82      4830\n",
      "functional needs repair       0.47      0.32      0.38       646\n",
      "         non functional       0.79      0.73      0.76      3429\n",
      "\n",
      "               accuracy                           0.77      8905\n",
      "              macro avg       0.68      0.64      0.65      8905\n",
      "           weighted avg       0.76      0.77      0.76      8905\n",
      "\n",
      "                         precision    recall  f1-score   support\n",
      "\n",
      "             functional       0.79      0.85      0.82      4830\n",
      "functional needs repair       0.46      0.32      0.38       647\n",
      "         non functional       0.79      0.75      0.77      3428\n",
      "\n",
      "               accuracy                           0.77      8905\n",
      "              macro avg       0.68      0.64      0.66      8905\n",
      "           weighted avg       0.77      0.77      0.77      8905\n",
      "\n",
      "                         precision    recall  f1-score   support\n",
      "\n",
      "             functional       0.79      0.86      0.82      4830\n",
      "functional needs repair       0.47      0.33      0.39       646\n",
      "         non functional       0.80      0.75      0.77      3428\n",
      "\n",
      "               accuracy                           0.78      8904\n",
      "              macro avg       0.69      0.65      0.66      8904\n",
      "           weighted avg       0.77      0.78      0.77      8904\n",
      "\n",
      "                         precision    recall  f1-score   support\n",
      "\n",
      "             functional       0.79      0.84      0.81      4830\n",
      "functional needs repair       0.42      0.28      0.34       646\n",
      "         non functional       0.79      0.75      0.77      3428\n",
      "\n",
      "               accuracy                           0.77      8904\n",
      "              macro avg       0.66      0.63      0.64      8904\n",
      "           weighted avg       0.76      0.77      0.76      8904\n",
      "\n",
      "[0.77417181 0.77069062 0.77248737 0.77785265 0.76763252]\n"
     ]
    }
   ],
   "source": [
    "pipeline = Pipeline([('scaler', MinMaxScaler()),\n",
    "                     ('knn', KNeighborsClassifier(n_neighbors=15, weights='distance'))])\n",
    "\n",
    "scores = cross_val_score(pipeline, X_train_best50_2, y_train, scoring=scoring)\n",
    "print(scores)"
   ]
  },
  {
   "cell_type": "code",
   "execution_count": 13,
   "metadata": {},
   "outputs": [],
   "source": [
    "from imblearn.over_sampling import SMOTE\n",
    "from imblearn.pipeline import Pipeline as imbPipeline"
   ]
  },
  {
   "cell_type": "code",
   "execution_count": 14,
   "metadata": {},
   "outputs": [
    {
     "name": "stdout",
     "output_type": "stream",
     "text": [
      "                         precision    recall  f1-score   support\n",
      "\n",
      "             functional       0.81      0.76      0.79      4830\n",
      "functional needs repair       0.32      0.52      0.40       646\n",
      "         non functional       0.78      0.75      0.77      3429\n",
      "\n",
      "               accuracy                           0.74      8905\n",
      "              macro avg       0.64      0.68      0.65      8905\n",
      "           weighted avg       0.77      0.74      0.75      8905\n",
      "\n",
      "                         precision    recall  f1-score   support\n",
      "\n",
      "             functional       0.81      0.77      0.79      4830\n",
      "functional needs repair       0.31      0.52      0.39       646\n",
      "         non functional       0.78      0.73      0.75      3429\n",
      "\n",
      "               accuracy                           0.74      8905\n",
      "              macro avg       0.63      0.68      0.65      8905\n",
      "           weighted avg       0.76      0.74      0.75      8905\n",
      "\n",
      "                         precision    recall  f1-score   support\n",
      "\n",
      "             functional       0.81      0.76      0.79      4830\n",
      "functional needs repair       0.31      0.53      0.39       647\n",
      "         non functional       0.78      0.74      0.76      3428\n",
      "\n",
      "               accuracy                           0.74      8905\n",
      "              macro avg       0.63      0.68      0.65      8905\n",
      "           weighted avg       0.76      0.74      0.75      8905\n",
      "\n",
      "                         precision    recall  f1-score   support\n",
      "\n",
      "             functional       0.82      0.77      0.79      4830\n",
      "functional needs repair       0.32      0.52      0.40       646\n",
      "         non functional       0.78      0.75      0.77      3428\n",
      "\n",
      "               accuracy                           0.74      8904\n",
      "              macro avg       0.64      0.68      0.65      8904\n",
      "           weighted avg       0.77      0.74      0.75      8904\n",
      "\n",
      "                         precision    recall  f1-score   support\n",
      "\n",
      "             functional       0.81      0.76      0.79      4830\n",
      "functional needs repair       0.30      0.49      0.37       646\n",
      "         non functional       0.77      0.75      0.76      3428\n",
      "\n",
      "               accuracy                           0.74      8904\n",
      "              macro avg       0.63      0.67      0.64      8904\n",
      "           weighted avg       0.76      0.74      0.75      8904\n",
      "\n",
      "[0.7429534  0.73801235 0.73790006 0.743823   0.73753369]\n"
     ]
    }
   ],
   "source": [
    "pipeline = imbPipeline([('scaler', MinMaxScaler()),\n",
    "                        ('sampling', SMOTE(random_state=2021)),\n",
    "                        ('knn', KNeighborsClassifier(n_neighbors=15, weights='distance'))])\n",
    "\n",
    "scores = cross_val_score(pipeline, X_train_best50_2, y_train, scoring=scoring)\n",
    "print(scores)"
   ]
  },
  {
   "cell_type": "code",
   "execution_count": 16,
   "metadata": {},
   "outputs": [
    {
     "name": "stdout",
     "output_type": "stream",
     "text": [
      "Fitting 5 folds for each of 12 candidates, totalling 60 fits\n"
     ]
    },
    {
     "name": "stderr",
     "output_type": "stream",
     "text": [
      "[Parallel(n_jobs=-1)]: Using backend LokyBackend with 4 concurrent workers.\n",
      "[Parallel(n_jobs=-1)]: Done  42 tasks      | elapsed: 13.3min\n",
      "[Parallel(n_jobs=-1)]: Done  60 out of  60 | elapsed: 18.4min finished\n"
     ]
    },
    {
     "data": {
      "text/plain": [
       "GridSearchCV(cv=5,\n",
       "             estimator=Pipeline(steps=[('scaler', MinMaxScaler()),\n",
       "                                       ('sampler', SMOTE(random_state=2021)),\n",
       "                                       ('knn',\n",
       "                                        KNeighborsClassifier(n_neighbors=15,\n",
       "                                                             weights='distance'))]),\n",
       "             n_jobs=-1,\n",
       "             param_grid=[{'knn__n_neighbors': [5, 7, 9, 11, 13, 15],\n",
       "                          'knn__weights': ['uniform', 'distance']}],\n",
       "             scoring=make_scorer(classification_report_with_accuracy_score),\n",
       "             verbose=True)"
      ]
     },
     "execution_count": 16,
     "metadata": {},
     "output_type": "execute_result"
    }
   ],
   "source": [
    "pipeline = imbPipeline([('scaler', MinMaxScaler()),\n",
    "                        ('sampler', SMOTE(random_state=2021)),\n",
    "                        ('knn', KNeighborsClassifier(n_neighbors=15, weights='distance'))])\n",
    "\n",
    "grid = [{\n",
    "    'knn__n_neighbors': [5, 7, 9, 11, 13, 15],\n",
    "    'knn__weights': ['uniform', 'distance']\n",
    "}]\n",
    "\n",
    "gridsearch_knn3 = GridSearchCV(estimator=pipeline,\n",
    "                               param_grid=grid,\n",
    "                               scoring=scoring,\n",
    "                               cv=5,\n",
    "                               n_jobs=-1,\n",
    "                               verbose=True)\n",
    "\n",
    "gridsearch_knn3.fit(X_train_best50_2, y_train)"
   ]
  },
  {
   "cell_type": "code",
   "execution_count": 17,
   "metadata": {},
   "outputs": [
    {
     "data": {
      "text/plain": [
       "{'knn__n_neighbors': 7, 'knn__weights': 'distance'}"
      ]
     },
     "execution_count": 17,
     "metadata": {},
     "output_type": "execute_result"
    }
   ],
   "source": [
    "gridsearch_knn3.best_params_"
   ]
  },
  {
   "cell_type": "code",
   "execution_count": 19,
   "metadata": {},
   "outputs": [
    {
     "data": {
      "text/plain": [
       "0.7420433567259073"
      ]
     },
     "execution_count": 19,
     "metadata": {},
     "output_type": "execute_result"
    }
   ],
   "source": [
    "gridsearch_knn3.best_score_"
   ]
  },
  {
   "cell_type": "markdown",
   "metadata": {},
   "source": [
    "### `RandomForestClassifier`"
   ]
  },
  {
   "cell_type": "code",
   "execution_count": 20,
   "metadata": {},
   "outputs": [],
   "source": [
    "from sklearn.ensemble import RandomForestClassifier, GradientBoostingClassifier"
   ]
  },
  {
   "cell_type": "code",
   "execution_count": 21,
   "metadata": {},
   "outputs": [
    {
     "name": "stdout",
     "output_type": "stream",
     "text": [
      "                         precision    recall  f1-score   support\n",
      "\n",
      "             functional       0.81      0.85      0.83      4830\n",
      "functional needs repair       0.50      0.35      0.41       646\n",
      "         non functional       0.80      0.78      0.79      3429\n",
      "\n",
      "               accuracy                           0.79      8905\n",
      "              macro avg       0.70      0.66      0.68      8905\n",
      "           weighted avg       0.78      0.79      0.79      8905\n",
      "\n",
      "                         precision    recall  f1-score   support\n",
      "\n",
      "             functional       0.79      0.85      0.82      4830\n",
      "functional needs repair       0.46      0.32      0.38       646\n",
      "         non functional       0.79      0.75      0.77      3429\n",
      "\n",
      "               accuracy                           0.78      8905\n",
      "              macro avg       0.68      0.64      0.66      8905\n",
      "           weighted avg       0.77      0.78      0.77      8905\n",
      "\n",
      "                         precision    recall  f1-score   support\n",
      "\n",
      "             functional       0.80      0.85      0.82      4830\n",
      "functional needs repair       0.47      0.35      0.40       647\n",
      "         non functional       0.80      0.77      0.78      3428\n",
      "\n",
      "               accuracy                           0.78      8905\n",
      "              macro avg       0.69      0.66      0.67      8905\n",
      "           weighted avg       0.78      0.78      0.78      8905\n",
      "\n",
      "                         precision    recall  f1-score   support\n",
      "\n",
      "             functional       0.80      0.84      0.82      4830\n",
      "functional needs repair       0.45      0.34      0.39       646\n",
      "         non functional       0.80      0.78      0.79      3428\n",
      "\n",
      "               accuracy                           0.78      8904\n",
      "              macro avg       0.68      0.66      0.67      8904\n",
      "           weighted avg       0.78      0.78      0.78      8904\n",
      "\n",
      "                         precision    recall  f1-score   support\n",
      "\n",
      "             functional       0.80      0.85      0.83      4830\n",
      "functional needs repair       0.44      0.32      0.37       646\n",
      "         non functional       0.80      0.77      0.79      3428\n",
      "\n",
      "               accuracy                           0.78      8904\n",
      "              macro avg       0.68      0.65      0.66      8904\n",
      "           weighted avg       0.78      0.78      0.78      8904\n",
      "\n",
      "[0.7903425  0.77529478 0.78281864 0.78301887 0.78380503]\n"
     ]
    }
   ],
   "source": [
    "pipeline = Pipeline([('scaler', MinMaxScaler()),\n",
    "                     ('ranfor', RandomForestClassifier(random_state=2021))])\n",
    "\n",
    "scores = cross_val_score(pipeline, X_train_best50_2, y_train, scoring=scoring)\n",
    "print(scores)"
   ]
  },
  {
   "cell_type": "code",
   "execution_count": 22,
   "metadata": {},
   "outputs": [
    {
     "data": {
      "text/plain": [
       "0.783055964601895"
      ]
     },
     "execution_count": 22,
     "metadata": {},
     "output_type": "execute_result"
    }
   ],
   "source": [
    "scores.mean()"
   ]
  },
  {
   "cell_type": "code",
   "execution_count": 23,
   "metadata": {},
   "outputs": [
    {
     "name": "stdout",
     "output_type": "stream",
     "text": [
      "Fitting 5 folds for each of 18 candidates, totalling 90 fits\n"
     ]
    },
    {
     "name": "stderr",
     "output_type": "stream",
     "text": [
      "[Parallel(n_jobs=-1)]: Using backend LokyBackend with 4 concurrent workers.\n",
      "[Parallel(n_jobs=-1)]: Done  42 tasks      | elapsed:  5.5min\n",
      "[Parallel(n_jobs=-1)]: Done  90 out of  90 | elapsed: 12.3min finished\n"
     ]
    },
    {
     "data": {
      "text/plain": [
       "GridSearchCV(cv=5,\n",
       "             estimator=Pipeline(steps=[('scaler', MinMaxScaler()),\n",
       "                                       ('randfor',\n",
       "                                        RandomForestClassifier(random_state=2021))]),\n",
       "             n_jobs=-1,\n",
       "             param_grid=[{'randfor__criterion': ['gini', 'entropy'],\n",
       "                          'randfor__max_features': ['auto', 'sqrt', 'log2'],\n",
       "                          'randfor__n_estimators': [100, 300, 500]}],\n",
       "             scoring=make_scorer(classification_report_with_accuracy_score),\n",
       "             verbose=True)"
      ]
     },
     "execution_count": 23,
     "metadata": {},
     "output_type": "execute_result"
    }
   ],
   "source": [
    "pipeline = Pipeline([('scaler', MinMaxScaler()),\n",
    "                     ('randfor', RandomForestClassifier(random_state=2021))])\n",
    "\n",
    "grid = [{\n",
    "    'randfor__n_estimators': [100, 300, 500],\n",
    "    'randfor__criterion': ['gini', 'entropy'],\n",
    "    'randfor__max_features': ['auto', 'sqrt', 'log2']\n",
    "}]\n",
    "\n",
    "gridsearch_randfor = GridSearchCV(estimator=pipeline,\n",
    "                               param_grid=grid,\n",
    "                               scoring=scoring,\n",
    "                               cv=5,\n",
    "                               n_jobs=-1,\n",
    "                               verbose=True)\n",
    "\n",
    "gridsearch_randfor.fit(X_train_best50_2, y_train)"
   ]
  },
  {
   "cell_type": "code",
   "execution_count": 24,
   "metadata": {},
   "outputs": [
    {
     "data": {
      "text/plain": [
       "{'randfor__criterion': 'entropy',\n",
       " 'randfor__max_features': 'auto',\n",
       " 'randfor__n_estimators': 100}"
      ]
     },
     "execution_count": 24,
     "metadata": {},
     "output_type": "execute_result"
    }
   ],
   "source": [
    "gridsearch_randfor.best_params_"
   ]
  },
  {
   "cell_type": "code",
   "execution_count": 25,
   "metadata": {
    "scrolled": true
   },
   "outputs": [
    {
     "data": {
      "text/plain": [
       "0.7832805575272178"
      ]
     },
     "execution_count": 25,
     "metadata": {},
     "output_type": "execute_result"
    }
   ],
   "source": [
    "gridsearch_randfor.best_score_"
   ]
  },
  {
   "cell_type": "markdown",
   "metadata": {},
   "source": [
    "### `RandomForestClassifier` with `SMOTE`"
   ]
  },
  {
   "cell_type": "code",
   "execution_count": 31,
   "metadata": {
    "scrolled": false
   },
   "outputs": [
    {
     "name": "stdout",
     "output_type": "stream",
     "text": [
      "                         precision    recall  f1-score   support\n",
      "\n",
      "             functional       0.82      0.80      0.81      4830\n",
      "functional needs repair       0.39      0.48      0.43       646\n",
      "         non functional       0.80      0.79      0.79      3429\n",
      "\n",
      "               accuracy                           0.77      8905\n",
      "              macro avg       0.67      0.69      0.68      8905\n",
      "           weighted avg       0.78      0.77      0.78      8905\n",
      "\n",
      "                         precision    recall  f1-score   support\n",
      "\n",
      "             functional       0.81      0.80      0.81      4830\n",
      "functional needs repair       0.37      0.48      0.42       646\n",
      "         non functional       0.79      0.75      0.77      3429\n",
      "\n",
      "               accuracy                           0.76      8905\n",
      "              macro avg       0.66      0.68      0.66      8905\n",
      "           weighted avg       0.77      0.76      0.76      8905\n",
      "\n",
      "                         precision    recall  f1-score   support\n",
      "\n",
      "             functional       0.82      0.81      0.81      4830\n",
      "functional needs repair       0.38      0.48      0.42       647\n",
      "         non functional       0.80      0.77      0.78      3428\n",
      "\n",
      "               accuracy                           0.77      8905\n",
      "              macro avg       0.66      0.69      0.67      8905\n",
      "           weighted avg       0.78      0.77      0.77      8905\n",
      "\n",
      "                         precision    recall  f1-score   support\n",
      "\n",
      "             functional       0.82      0.79      0.81      4830\n",
      "functional needs repair       0.37      0.47      0.42       646\n",
      "         non functional       0.79      0.79      0.79      3428\n",
      "\n",
      "               accuracy                           0.77      8904\n",
      "              macro avg       0.66      0.68      0.67      8904\n",
      "           weighted avg       0.77      0.77      0.77      8904\n",
      "\n",
      "                         precision    recall  f1-score   support\n",
      "\n",
      "             functional       0.82      0.80      0.81      4830\n",
      "functional needs repair       0.36      0.46      0.41       646\n",
      "         non functional       0.80      0.77      0.78      3428\n",
      "\n",
      "               accuracy                           0.77      8904\n",
      "              macro avg       0.66      0.68      0.67      8904\n",
      "           weighted avg       0.78      0.77      0.77      8904\n",
      "\n",
      "[0.77383492 0.75957327 0.76732173 0.76628482 0.76650943]\n"
     ]
    }
   ],
   "source": [
    "pipeline = imbPipeline([('scaler', MinMaxScaler()),\n",
    "                        ('sampling', SMOTE(random_state=2021)),\n",
    "                        ('randfor', RandomForestClassifier(random_state=2021, criterion='entropy',\n",
    "                                                           max_features='auto', n_estimators=100))])\n",
    "\n",
    "scores = cross_val_score(pipeline, X_train_best50_2, y_train, scoring=scoring)\n",
    "print(scores)"
   ]
  },
  {
   "cell_type": "code",
   "execution_count": 56,
   "metadata": {
    "scrolled": true
   },
   "outputs": [
    {
     "name": "stdout",
     "output_type": "stream",
     "text": [
      "Training Accuracy Score: 0.9936212266411116\n",
      "Testing Accuracy Score: 0.7698320007187135\n"
     ]
    }
   ],
   "source": [
    "# Fit on _tt data and then test on _val:\n",
    "\n",
    "pipeline = imbPipeline([('scaler', MinMaxScaler()),\n",
    "                        ('sampling', SMOTE(random_state=2021)),\n",
    "                        ('randfor', RandomForestClassifier(random_state=2021, criterion='entropy',\n",
    "                                                           max_features='auto', n_estimators=100))])\n",
    "pipeline.fit(X_tt, y_tt)\n",
    "y_tt_pred = pipeline.predict(X_tt)\n",
    "y_val_pred = pipeline.predict(X_val)\n",
    "\n",
    "print(f'Training Accuracy Score: {accuracy_score(y_tt, y_tt_pred)}')\n",
    "print(f'Testing Accuracy Score: {accuracy_score(y_val, y_val_pred)}')"
   ]
  },
  {
   "cell_type": "code",
   "execution_count": 59,
   "metadata": {},
   "outputs": [
    {
     "name": "stdout",
     "output_type": "stream",
     "text": [
      "                         precision    recall  f1-score   support\n",
      "\n",
      "             functional       0.82      0.81      0.81      6038\n",
      "functional needs repair       0.38      0.48      0.42       819\n",
      "         non functional       0.80      0.77      0.79      4274\n",
      "\n",
      "               accuracy                           0.77     11131\n",
      "              macro avg       0.67      0.69      0.67     11131\n",
      "           weighted avg       0.78      0.77      0.77     11131\n",
      "\n"
     ]
    }
   ],
   "source": [
    "print(classification_report(y_val, y_val_pred))"
   ]
  },
  {
   "cell_type": "markdown",
   "metadata": {},
   "source": [
    "Recall score for `functional needs repair` here is relatively high (although still pretty low), while average accuracy is not too horrible. I'll next experiment with `GridSearch` using a different metrics to see if it'll turn out different than the other gridsearches I've done. Although setting metrics for multi-class is a bit tricky. Still haven't figured out how to do it.\n",
    "\n",
    "Update: Found out there's something called `_weighted`, `_micro` and `_macro` suffixes that can be attached to `f1`, `recall` and `precision` score. Going to try recall!"
   ]
  },
  {
   "cell_type": "markdown",
   "metadata": {},
   "source": [
    "### `RandomizedSearchCV`"
   ]
  },
  {
   "cell_type": "markdown",
   "metadata": {},
   "source": [
    "Going to try randomized search to see if it pick up on anything "
   ]
  },
  {
   "cell_type": "code",
   "execution_count": 60,
   "metadata": {},
   "outputs": [],
   "source": [
    "from sklearn.model_selection import RandomizedSearchCV"
   ]
  },
  {
   "cell_type": "code",
   "execution_count": 61,
   "metadata": {},
   "outputs": [],
   "source": [
    "# Number of trees in random forest\n",
    "n_estimators = [int(x) for x in np.linspace(start = 200, stop = 2000, num = 10)]\n",
    "# Number of features to consider at every split\n",
    "max_features = ['auto', 'sqrt']\n",
    "# Maximum number of levels in tree\n",
    "max_depth = [int(x) for x in np.linspace(10, 110, num = 11)]\n",
    "max_depth.append(None)\n",
    "# Minimum number of samples required to split a node\n",
    "min_samples_split = [2, 5, 10]\n",
    "# Minimum number of samples required at each leaf node\n",
    "min_samples_leaf = [1, 2, 4]\n",
    "# Method of selecting samples for training each tree\n",
    "bootstrap = [True, False]"
   ]
  },
  {
   "cell_type": "code",
   "execution_count": 64,
   "metadata": {},
   "outputs": [],
   "source": [
    "# Create the random grid\n",
    "random_grid = [{'randfor__n_estimators': n_estimators,\n",
    "                'randfor__max_features': max_features,\n",
    "                'randfor__max_depth': max_depth,\n",
    "                'randfor__min_samples_split': min_samples_split,\n",
    "                'randfor__min_samples_leaf': min_samples_leaf,\n",
    "                'randfor__bootstrap': bootstrap}]"
   ]
  },
  {
   "cell_type": "code",
   "execution_count": 65,
   "metadata": {},
   "outputs": [
    {
     "name": "stdout",
     "output_type": "stream",
     "text": [
      "Fitting 3 folds for each of 50 candidates, totalling 150 fits\n"
     ]
    },
    {
     "name": "stderr",
     "output_type": "stream",
     "text": [
      "[Parallel(n_jobs=-1)]: Using backend LokyBackend with 4 concurrent workers.\n",
      "[Parallel(n_jobs=-1)]: Done  33 tasks      | elapsed: 21.3min\n",
      "Exception in thread Thread-8:\n",
      "Traceback (most recent call last):\n",
      "  File \"/opt/anaconda3/envs/learn-env/lib/python3.8/threading.py\", line 932, in _bootstrap_inner\n",
      "    self.run()\n",
      "  File \"/opt/anaconda3/envs/learn-env/lib/python3.8/site-packages/joblib/externals/loky/process_executor.py\", line 567, in run\n",
      "    self.flag_executor_shutting_down()\n",
      "  File \"/opt/anaconda3/envs/learn-env/lib/python3.8/site-packages/joblib/externals/loky/process_executor.py\", line 756, in flag_executor_shutting_down\n",
      "    self.kill_workers()\n",
      "  File \"/opt/anaconda3/envs/learn-env/lib/python3.8/site-packages/joblib/externals/loky/process_executor.py\", line 766, in kill_workers\n",
      "    recursive_terminate(p)\n",
      "  File \"/opt/anaconda3/envs/learn-env/lib/python3.8/site-packages/joblib/externals/loky/backend/utils.py\", line 28, in recursive_terminate\n",
      "    _recursive_terminate_without_psutil(process)\n",
      "  File \"/opt/anaconda3/envs/learn-env/lib/python3.8/site-packages/joblib/externals/loky/backend/utils.py\", line 53, in _recursive_terminate_without_psutil\n",
      "    _recursive_terminate(process.pid)\n",
      "  File \"/opt/anaconda3/envs/learn-env/lib/python3.8/site-packages/joblib/externals/loky/backend/utils.py\", line 92, in _recursive_terminate\n",
      "    children_pids = subprocess.check_output(\n",
      "  File \"/opt/anaconda3/envs/learn-env/lib/python3.8/subprocess.py\", line 411, in check_output\n",
      "    return run(*popenargs, stdout=PIPE, timeout=timeout, check=True,\n",
      "  File \"/opt/anaconda3/envs/learn-env/lib/python3.8/subprocess.py\", line 512, in run\n",
      "    raise CalledProcessError(retcode, process.args,\n",
      "subprocess.CalledProcessError: Command '['pgrep', '-P', '11652']' died with <Signals.SIGINT: 2>.\n"
     ]
    },
    {
     "ename": "KeyboardInterrupt",
     "evalue": "",
     "output_type": "error",
     "traceback": [
      "\u001b[0;31m---------------------------------------------------------------------------\u001b[0m",
      "\u001b[0;31mKeyboardInterrupt\u001b[0m                         Traceback (most recent call last)",
      "\u001b[0;32m/opt/anaconda3/envs/learn-env/lib/python3.8/site-packages/joblib/parallel.py\u001b[0m in \u001b[0;36mretrieve\u001b[0;34m(self)\u001b[0m\n\u001b[1;32m    939\u001b[0m                 \u001b[0;32mif\u001b[0m \u001b[0mgetattr\u001b[0m\u001b[0;34m(\u001b[0m\u001b[0mself\u001b[0m\u001b[0;34m.\u001b[0m\u001b[0m_backend\u001b[0m\u001b[0;34m,\u001b[0m \u001b[0;34m'supports_timeout'\u001b[0m\u001b[0;34m,\u001b[0m \u001b[0;32mFalse\u001b[0m\u001b[0;34m)\u001b[0m\u001b[0;34m:\u001b[0m\u001b[0;34m\u001b[0m\u001b[0;34m\u001b[0m\u001b[0m\n\u001b[0;32m--> 940\u001b[0;31m                     \u001b[0mself\u001b[0m\u001b[0;34m.\u001b[0m\u001b[0m_output\u001b[0m\u001b[0;34m.\u001b[0m\u001b[0mextend\u001b[0m\u001b[0;34m(\u001b[0m\u001b[0mjob\u001b[0m\u001b[0;34m.\u001b[0m\u001b[0mget\u001b[0m\u001b[0;34m(\u001b[0m\u001b[0mtimeout\u001b[0m\u001b[0;34m=\u001b[0m\u001b[0mself\u001b[0m\u001b[0;34m.\u001b[0m\u001b[0mtimeout\u001b[0m\u001b[0;34m)\u001b[0m\u001b[0;34m)\u001b[0m\u001b[0;34m\u001b[0m\u001b[0;34m\u001b[0m\u001b[0m\n\u001b[0m\u001b[1;32m    941\u001b[0m                 \u001b[0;32melse\u001b[0m\u001b[0;34m:\u001b[0m\u001b[0;34m\u001b[0m\u001b[0;34m\u001b[0m\u001b[0m\n",
      "\u001b[0;32m/opt/anaconda3/envs/learn-env/lib/python3.8/site-packages/joblib/_parallel_backends.py\u001b[0m in \u001b[0;36mwrap_future_result\u001b[0;34m(future, timeout)\u001b[0m\n\u001b[1;32m    541\u001b[0m         \u001b[0;32mtry\u001b[0m\u001b[0;34m:\u001b[0m\u001b[0;34m\u001b[0m\u001b[0;34m\u001b[0m\u001b[0m\n\u001b[0;32m--> 542\u001b[0;31m             \u001b[0;32mreturn\u001b[0m \u001b[0mfuture\u001b[0m\u001b[0;34m.\u001b[0m\u001b[0mresult\u001b[0m\u001b[0;34m(\u001b[0m\u001b[0mtimeout\u001b[0m\u001b[0;34m=\u001b[0m\u001b[0mtimeout\u001b[0m\u001b[0;34m)\u001b[0m\u001b[0;34m\u001b[0m\u001b[0;34m\u001b[0m\u001b[0m\n\u001b[0m\u001b[1;32m    543\u001b[0m         \u001b[0;32mexcept\u001b[0m \u001b[0mCfTimeoutError\u001b[0m \u001b[0;32mas\u001b[0m \u001b[0me\u001b[0m\u001b[0;34m:\u001b[0m\u001b[0;34m\u001b[0m\u001b[0;34m\u001b[0m\u001b[0m\n",
      "\u001b[0;32m/opt/anaconda3/envs/learn-env/lib/python3.8/concurrent/futures/_base.py\u001b[0m in \u001b[0;36mresult\u001b[0;34m(self, timeout)\u001b[0m\n\u001b[1;32m    433\u001b[0m \u001b[0;34m\u001b[0m\u001b[0m\n\u001b[0;32m--> 434\u001b[0;31m             \u001b[0mself\u001b[0m\u001b[0;34m.\u001b[0m\u001b[0m_condition\u001b[0m\u001b[0;34m.\u001b[0m\u001b[0mwait\u001b[0m\u001b[0;34m(\u001b[0m\u001b[0mtimeout\u001b[0m\u001b[0;34m)\u001b[0m\u001b[0;34m\u001b[0m\u001b[0;34m\u001b[0m\u001b[0m\n\u001b[0m\u001b[1;32m    435\u001b[0m \u001b[0;34m\u001b[0m\u001b[0m\n",
      "\u001b[0;32m/opt/anaconda3/envs/learn-env/lib/python3.8/threading.py\u001b[0m in \u001b[0;36mwait\u001b[0;34m(self, timeout)\u001b[0m\n\u001b[1;32m    301\u001b[0m             \u001b[0;32mif\u001b[0m \u001b[0mtimeout\u001b[0m \u001b[0;32mis\u001b[0m \u001b[0;32mNone\u001b[0m\u001b[0;34m:\u001b[0m\u001b[0;34m\u001b[0m\u001b[0;34m\u001b[0m\u001b[0m\n\u001b[0;32m--> 302\u001b[0;31m                 \u001b[0mwaiter\u001b[0m\u001b[0;34m.\u001b[0m\u001b[0macquire\u001b[0m\u001b[0;34m(\u001b[0m\u001b[0;34m)\u001b[0m\u001b[0;34m\u001b[0m\u001b[0;34m\u001b[0m\u001b[0m\n\u001b[0m\u001b[1;32m    303\u001b[0m                 \u001b[0mgotit\u001b[0m \u001b[0;34m=\u001b[0m \u001b[0;32mTrue\u001b[0m\u001b[0;34m\u001b[0m\u001b[0;34m\u001b[0m\u001b[0m\n",
      "\u001b[0;31mKeyboardInterrupt\u001b[0m: ",
      "\nDuring handling of the above exception, another exception occurred:\n",
      "\u001b[0;31mKeyboardInterrupt\u001b[0m                         Traceback (most recent call last)",
      "\u001b[0;32m<ipython-input-65-a1b8c15ea505>\u001b[0m in \u001b[0;36m<module>\u001b[0;34m\u001b[0m\n\u001b[1;32m     11\u001b[0m                                         verbose=2)\n\u001b[1;32m     12\u001b[0m \u001b[0;34m\u001b[0m\u001b[0m\n\u001b[0;32m---> 13\u001b[0;31m \u001b[0mrandsearch_randfor\u001b[0m\u001b[0;34m.\u001b[0m\u001b[0mfit\u001b[0m\u001b[0;34m(\u001b[0m\u001b[0mX_tt\u001b[0m\u001b[0;34m,\u001b[0m \u001b[0my_tt\u001b[0m\u001b[0;34m)\u001b[0m\u001b[0;34m\u001b[0m\u001b[0;34m\u001b[0m\u001b[0m\n\u001b[0m",
      "\u001b[0;32m/opt/anaconda3/envs/learn-env/lib/python3.8/site-packages/sklearn/utils/validation.py\u001b[0m in \u001b[0;36minner_f\u001b[0;34m(*args, **kwargs)\u001b[0m\n\u001b[1;32m     70\u001b[0m                           FutureWarning)\n\u001b[1;32m     71\u001b[0m         \u001b[0mkwargs\u001b[0m\u001b[0;34m.\u001b[0m\u001b[0mupdate\u001b[0m\u001b[0;34m(\u001b[0m\u001b[0;34m{\u001b[0m\u001b[0mk\u001b[0m\u001b[0;34m:\u001b[0m \u001b[0marg\u001b[0m \u001b[0;32mfor\u001b[0m \u001b[0mk\u001b[0m\u001b[0;34m,\u001b[0m \u001b[0marg\u001b[0m \u001b[0;32min\u001b[0m \u001b[0mzip\u001b[0m\u001b[0;34m(\u001b[0m\u001b[0msig\u001b[0m\u001b[0;34m.\u001b[0m\u001b[0mparameters\u001b[0m\u001b[0;34m,\u001b[0m \u001b[0margs\u001b[0m\u001b[0;34m)\u001b[0m\u001b[0;34m}\u001b[0m\u001b[0;34m)\u001b[0m\u001b[0;34m\u001b[0m\u001b[0;34m\u001b[0m\u001b[0m\n\u001b[0;32m---> 72\u001b[0;31m         \u001b[0;32mreturn\u001b[0m \u001b[0mf\u001b[0m\u001b[0;34m(\u001b[0m\u001b[0;34m**\u001b[0m\u001b[0mkwargs\u001b[0m\u001b[0;34m)\u001b[0m\u001b[0;34m\u001b[0m\u001b[0;34m\u001b[0m\u001b[0m\n\u001b[0m\u001b[1;32m     73\u001b[0m     \u001b[0;32mreturn\u001b[0m \u001b[0minner_f\u001b[0m\u001b[0;34m\u001b[0m\u001b[0;34m\u001b[0m\u001b[0m\n\u001b[1;32m     74\u001b[0m \u001b[0;34m\u001b[0m\u001b[0m\n",
      "\u001b[0;32m/opt/anaconda3/envs/learn-env/lib/python3.8/site-packages/sklearn/model_selection/_search.py\u001b[0m in \u001b[0;36mfit\u001b[0;34m(self, X, y, groups, **fit_params)\u001b[0m\n\u001b[1;32m    734\u001b[0m                 \u001b[0;32mreturn\u001b[0m \u001b[0mresults\u001b[0m\u001b[0;34m\u001b[0m\u001b[0;34m\u001b[0m\u001b[0m\n\u001b[1;32m    735\u001b[0m \u001b[0;34m\u001b[0m\u001b[0m\n\u001b[0;32m--> 736\u001b[0;31m             \u001b[0mself\u001b[0m\u001b[0;34m.\u001b[0m\u001b[0m_run_search\u001b[0m\u001b[0;34m(\u001b[0m\u001b[0mevaluate_candidates\u001b[0m\u001b[0;34m)\u001b[0m\u001b[0;34m\u001b[0m\u001b[0;34m\u001b[0m\u001b[0m\n\u001b[0m\u001b[1;32m    737\u001b[0m \u001b[0;34m\u001b[0m\u001b[0m\n\u001b[1;32m    738\u001b[0m         \u001b[0;31m# For multi-metric evaluation, store the best_index_, best_params_ and\u001b[0m\u001b[0;34m\u001b[0m\u001b[0;34m\u001b[0m\u001b[0;34m\u001b[0m\u001b[0m\n",
      "\u001b[0;32m/opt/anaconda3/envs/learn-env/lib/python3.8/site-packages/sklearn/model_selection/_search.py\u001b[0m in \u001b[0;36m_run_search\u001b[0;34m(self, evaluate_candidates)\u001b[0m\n\u001b[1;32m   1527\u001b[0m     \u001b[0;32mdef\u001b[0m \u001b[0m_run_search\u001b[0m\u001b[0;34m(\u001b[0m\u001b[0mself\u001b[0m\u001b[0;34m,\u001b[0m \u001b[0mevaluate_candidates\u001b[0m\u001b[0;34m)\u001b[0m\u001b[0;34m:\u001b[0m\u001b[0;34m\u001b[0m\u001b[0;34m\u001b[0m\u001b[0m\n\u001b[1;32m   1528\u001b[0m         \u001b[0;34m\"\"\"Search n_iter candidates from param_distributions\"\"\"\u001b[0m\u001b[0;34m\u001b[0m\u001b[0;34m\u001b[0m\u001b[0m\n\u001b[0;32m-> 1529\u001b[0;31m         evaluate_candidates(ParameterSampler(\n\u001b[0m\u001b[1;32m   1530\u001b[0m             \u001b[0mself\u001b[0m\u001b[0;34m.\u001b[0m\u001b[0mparam_distributions\u001b[0m\u001b[0;34m,\u001b[0m \u001b[0mself\u001b[0m\u001b[0;34m.\u001b[0m\u001b[0mn_iter\u001b[0m\u001b[0;34m,\u001b[0m\u001b[0;34m\u001b[0m\u001b[0;34m\u001b[0m\u001b[0m\n\u001b[1;32m   1531\u001b[0m             random_state=self.random_state))\n",
      "\u001b[0;32m/opt/anaconda3/envs/learn-env/lib/python3.8/site-packages/sklearn/model_selection/_search.py\u001b[0m in \u001b[0;36mevaluate_candidates\u001b[0;34m(candidate_params)\u001b[0m\n\u001b[1;32m    706\u001b[0m                               n_splits, n_candidates, n_candidates * n_splits))\n\u001b[1;32m    707\u001b[0m \u001b[0;34m\u001b[0m\u001b[0m\n\u001b[0;32m--> 708\u001b[0;31m                 out = parallel(delayed(_fit_and_score)(clone(base_estimator),\n\u001b[0m\u001b[1;32m    709\u001b[0m                                                        \u001b[0mX\u001b[0m\u001b[0;34m,\u001b[0m \u001b[0my\u001b[0m\u001b[0;34m,\u001b[0m\u001b[0;34m\u001b[0m\u001b[0;34m\u001b[0m\u001b[0m\n\u001b[1;32m    710\u001b[0m                                                        \u001b[0mtrain\u001b[0m\u001b[0;34m=\u001b[0m\u001b[0mtrain\u001b[0m\u001b[0;34m,\u001b[0m \u001b[0mtest\u001b[0m\u001b[0;34m=\u001b[0m\u001b[0mtest\u001b[0m\u001b[0;34m,\u001b[0m\u001b[0;34m\u001b[0m\u001b[0;34m\u001b[0m\u001b[0m\n",
      "\u001b[0;32m/opt/anaconda3/envs/learn-env/lib/python3.8/site-packages/joblib/parallel.py\u001b[0m in \u001b[0;36m__call__\u001b[0;34m(self, iterable)\u001b[0m\n\u001b[1;32m   1059\u001b[0m \u001b[0;34m\u001b[0m\u001b[0m\n\u001b[1;32m   1060\u001b[0m             \u001b[0;32mwith\u001b[0m \u001b[0mself\u001b[0m\u001b[0;34m.\u001b[0m\u001b[0m_backend\u001b[0m\u001b[0;34m.\u001b[0m\u001b[0mretrieval_context\u001b[0m\u001b[0;34m(\u001b[0m\u001b[0;34m)\u001b[0m\u001b[0;34m:\u001b[0m\u001b[0;34m\u001b[0m\u001b[0;34m\u001b[0m\u001b[0m\n\u001b[0;32m-> 1061\u001b[0;31m                 \u001b[0mself\u001b[0m\u001b[0;34m.\u001b[0m\u001b[0mretrieve\u001b[0m\u001b[0;34m(\u001b[0m\u001b[0;34m)\u001b[0m\u001b[0;34m\u001b[0m\u001b[0;34m\u001b[0m\u001b[0m\n\u001b[0m\u001b[1;32m   1062\u001b[0m             \u001b[0;31m# Make sure that we get a last message telling us we are done\u001b[0m\u001b[0;34m\u001b[0m\u001b[0;34m\u001b[0m\u001b[0;34m\u001b[0m\u001b[0m\n\u001b[1;32m   1063\u001b[0m             \u001b[0melapsed_time\u001b[0m \u001b[0;34m=\u001b[0m \u001b[0mtime\u001b[0m\u001b[0;34m.\u001b[0m\u001b[0mtime\u001b[0m\u001b[0;34m(\u001b[0m\u001b[0;34m)\u001b[0m \u001b[0;34m-\u001b[0m \u001b[0mself\u001b[0m\u001b[0;34m.\u001b[0m\u001b[0m_start_time\u001b[0m\u001b[0;34m\u001b[0m\u001b[0;34m\u001b[0m\u001b[0m\n",
      "\u001b[0;32m/opt/anaconda3/envs/learn-env/lib/python3.8/site-packages/joblib/parallel.py\u001b[0m in \u001b[0;36mretrieve\u001b[0;34m(self)\u001b[0m\n\u001b[1;32m    960\u001b[0m                     \u001b[0;31m# scheduling.\u001b[0m\u001b[0;34m\u001b[0m\u001b[0;34m\u001b[0m\u001b[0;34m\u001b[0m\u001b[0m\n\u001b[1;32m    961\u001b[0m                     \u001b[0mensure_ready\u001b[0m \u001b[0;34m=\u001b[0m \u001b[0mself\u001b[0m\u001b[0;34m.\u001b[0m\u001b[0m_managed_backend\u001b[0m\u001b[0;34m\u001b[0m\u001b[0;34m\u001b[0m\u001b[0m\n\u001b[0;32m--> 962\u001b[0;31m                     \u001b[0mbackend\u001b[0m\u001b[0;34m.\u001b[0m\u001b[0mabort_everything\u001b[0m\u001b[0;34m(\u001b[0m\u001b[0mensure_ready\u001b[0m\u001b[0;34m=\u001b[0m\u001b[0mensure_ready\u001b[0m\u001b[0;34m)\u001b[0m\u001b[0;34m\u001b[0m\u001b[0;34m\u001b[0m\u001b[0m\n\u001b[0m\u001b[1;32m    963\u001b[0m                 \u001b[0;32mraise\u001b[0m\u001b[0;34m\u001b[0m\u001b[0;34m\u001b[0m\u001b[0m\n\u001b[1;32m    964\u001b[0m \u001b[0;34m\u001b[0m\u001b[0m\n",
      "\u001b[0;32m/opt/anaconda3/envs/learn-env/lib/python3.8/site-packages/joblib/_parallel_backends.py\u001b[0m in \u001b[0;36mabort_everything\u001b[0;34m(self, ensure_ready)\u001b[0m\n\u001b[1;32m    559\u001b[0m         \"\"\"Shutdown the workers and restart a new one with the same parameters\n\u001b[1;32m    560\u001b[0m         \"\"\"\n\u001b[0;32m--> 561\u001b[0;31m         \u001b[0mself\u001b[0m\u001b[0;34m.\u001b[0m\u001b[0m_workers\u001b[0m\u001b[0;34m.\u001b[0m\u001b[0mterminate\u001b[0m\u001b[0;34m(\u001b[0m\u001b[0mkill_workers\u001b[0m\u001b[0;34m=\u001b[0m\u001b[0;32mTrue\u001b[0m\u001b[0;34m)\u001b[0m\u001b[0;34m\u001b[0m\u001b[0;34m\u001b[0m\u001b[0m\n\u001b[0m\u001b[1;32m    562\u001b[0m         \u001b[0mself\u001b[0m\u001b[0;34m.\u001b[0m\u001b[0m_workers\u001b[0m \u001b[0;34m=\u001b[0m \u001b[0;32mNone\u001b[0m\u001b[0;34m\u001b[0m\u001b[0;34m\u001b[0m\u001b[0m\n\u001b[1;32m    563\u001b[0m \u001b[0;34m\u001b[0m\u001b[0m\n",
      "\u001b[0;32m/opt/anaconda3/envs/learn-env/lib/python3.8/site-packages/joblib/executor.py\u001b[0m in \u001b[0;36mterminate\u001b[0;34m(self, kill_workers)\u001b[0m\n\u001b[1;32m     72\u001b[0m \u001b[0;34m\u001b[0m\u001b[0m\n\u001b[1;32m     73\u001b[0m     \u001b[0;32mdef\u001b[0m \u001b[0mterminate\u001b[0m\u001b[0;34m(\u001b[0m\u001b[0mself\u001b[0m\u001b[0;34m,\u001b[0m \u001b[0mkill_workers\u001b[0m\u001b[0;34m=\u001b[0m\u001b[0;32mFalse\u001b[0m\u001b[0;34m)\u001b[0m\u001b[0;34m:\u001b[0m\u001b[0;34m\u001b[0m\u001b[0;34m\u001b[0m\u001b[0m\n\u001b[0;32m---> 74\u001b[0;31m         \u001b[0mself\u001b[0m\u001b[0;34m.\u001b[0m\u001b[0mshutdown\u001b[0m\u001b[0;34m(\u001b[0m\u001b[0mkill_workers\u001b[0m\u001b[0;34m=\u001b[0m\u001b[0mkill_workers\u001b[0m\u001b[0;34m)\u001b[0m\u001b[0;34m\u001b[0m\u001b[0;34m\u001b[0m\u001b[0m\n\u001b[0m\u001b[1;32m     75\u001b[0m         \u001b[0;32mif\u001b[0m \u001b[0mkill_workers\u001b[0m\u001b[0;34m:\u001b[0m\u001b[0;34m\u001b[0m\u001b[0;34m\u001b[0m\u001b[0m\n\u001b[1;32m     76\u001b[0m             \u001b[0;31m# When workers are killed in such a brutal manner, they cannot\u001b[0m\u001b[0;34m\u001b[0m\u001b[0;34m\u001b[0m\u001b[0;34m\u001b[0m\u001b[0m\n",
      "\u001b[0;32m/opt/anaconda3/envs/learn-env/lib/python3.8/site-packages/joblib/externals/loky/process_executor.py\u001b[0m in \u001b[0;36mshutdown\u001b[0;34m(self, wait, kill_workers)\u001b[0m\n\u001b[1;32m   1169\u001b[0m \u001b[0;34m\u001b[0m\u001b[0m\n\u001b[1;32m   1170\u001b[0m         \u001b[0;32mif\u001b[0m \u001b[0mexecutor_manager_thread\u001b[0m \u001b[0;32mis\u001b[0m \u001b[0;32mnot\u001b[0m \u001b[0;32mNone\u001b[0m \u001b[0;32mand\u001b[0m \u001b[0mwait\u001b[0m\u001b[0;34m:\u001b[0m\u001b[0;34m\u001b[0m\u001b[0;34m\u001b[0m\u001b[0m\n\u001b[0;32m-> 1171\u001b[0;31m             \u001b[0mexecutor_manager_thread\u001b[0m\u001b[0;34m.\u001b[0m\u001b[0mjoin\u001b[0m\u001b[0;34m(\u001b[0m\u001b[0;34m)\u001b[0m\u001b[0;34m\u001b[0m\u001b[0;34m\u001b[0m\u001b[0m\n\u001b[0m\u001b[1;32m   1172\u001b[0m \u001b[0;34m\u001b[0m\u001b[0m\n\u001b[1;32m   1173\u001b[0m         \u001b[0;31m# To reduce the risk of opening too many files, remove references to\u001b[0m\u001b[0;34m\u001b[0m\u001b[0;34m\u001b[0m\u001b[0;34m\u001b[0m\u001b[0m\n",
      "\u001b[0;32m/opt/anaconda3/envs/learn-env/lib/python3.8/threading.py\u001b[0m in \u001b[0;36mjoin\u001b[0;34m(self, timeout)\u001b[0m\n\u001b[1;32m   1009\u001b[0m \u001b[0;34m\u001b[0m\u001b[0m\n\u001b[1;32m   1010\u001b[0m         \u001b[0;32mif\u001b[0m \u001b[0mtimeout\u001b[0m \u001b[0;32mis\u001b[0m \u001b[0;32mNone\u001b[0m\u001b[0;34m:\u001b[0m\u001b[0;34m\u001b[0m\u001b[0;34m\u001b[0m\u001b[0m\n\u001b[0;32m-> 1011\u001b[0;31m             \u001b[0mself\u001b[0m\u001b[0;34m.\u001b[0m\u001b[0m_wait_for_tstate_lock\u001b[0m\u001b[0;34m(\u001b[0m\u001b[0;34m)\u001b[0m\u001b[0;34m\u001b[0m\u001b[0;34m\u001b[0m\u001b[0m\n\u001b[0m\u001b[1;32m   1012\u001b[0m         \u001b[0;32melse\u001b[0m\u001b[0;34m:\u001b[0m\u001b[0;34m\u001b[0m\u001b[0;34m\u001b[0m\u001b[0m\n\u001b[1;32m   1013\u001b[0m             \u001b[0;31m# the behavior of a negative timeout isn't documented, but\u001b[0m\u001b[0;34m\u001b[0m\u001b[0;34m\u001b[0m\u001b[0;34m\u001b[0m\u001b[0m\n",
      "\u001b[0;32m/opt/anaconda3/envs/learn-env/lib/python3.8/threading.py\u001b[0m in \u001b[0;36m_wait_for_tstate_lock\u001b[0;34m(self, block, timeout)\u001b[0m\n\u001b[1;32m   1025\u001b[0m         \u001b[0;32mif\u001b[0m \u001b[0mlock\u001b[0m \u001b[0;32mis\u001b[0m \u001b[0;32mNone\u001b[0m\u001b[0;34m:\u001b[0m  \u001b[0;31m# already determined that the C code is done\u001b[0m\u001b[0;34m\u001b[0m\u001b[0;34m\u001b[0m\u001b[0m\n\u001b[1;32m   1026\u001b[0m             \u001b[0;32massert\u001b[0m \u001b[0mself\u001b[0m\u001b[0;34m.\u001b[0m\u001b[0m_is_stopped\u001b[0m\u001b[0;34m\u001b[0m\u001b[0;34m\u001b[0m\u001b[0m\n\u001b[0;32m-> 1027\u001b[0;31m         \u001b[0;32melif\u001b[0m \u001b[0mlock\u001b[0m\u001b[0;34m.\u001b[0m\u001b[0macquire\u001b[0m\u001b[0;34m(\u001b[0m\u001b[0mblock\u001b[0m\u001b[0;34m,\u001b[0m \u001b[0mtimeout\u001b[0m\u001b[0;34m)\u001b[0m\u001b[0;34m:\u001b[0m\u001b[0;34m\u001b[0m\u001b[0;34m\u001b[0m\u001b[0m\n\u001b[0m\u001b[1;32m   1028\u001b[0m             \u001b[0mlock\u001b[0m\u001b[0;34m.\u001b[0m\u001b[0mrelease\u001b[0m\u001b[0;34m(\u001b[0m\u001b[0;34m)\u001b[0m\u001b[0;34m\u001b[0m\u001b[0;34m\u001b[0m\u001b[0m\n\u001b[1;32m   1029\u001b[0m             \u001b[0mself\u001b[0m\u001b[0;34m.\u001b[0m\u001b[0m_stop\u001b[0m\u001b[0;34m(\u001b[0m\u001b[0;34m)\u001b[0m\u001b[0;34m\u001b[0m\u001b[0;34m\u001b[0m\u001b[0m\n",
      "\u001b[0;31mKeyboardInterrupt\u001b[0m: "
     ]
    }
   ],
   "source": [
    "pipeline = imbPipeline([('scaler', MinMaxScaler()),\n",
    "                        ('sampling', SMOTE(random_state=2021)),\n",
    "                        ('randfor', RandomForestClassifier(random_state=2021))])\n",
    "\n",
    "randsearch_randfor = RandomizedSearchCV(estimator=pipeline,\n",
    "                                        param_distributions=random_grid,\n",
    "                                        n_iter=50,\n",
    "                                        scoring='accuracy',\n",
    "                                        cv=3,\n",
    "                                        n_jobs=-1,\n",
    "                                        verbose=2)\n",
    "\n",
    "randsearch_randfor.fit(X_tt, y_tt)"
   ]
  },
  {
   "cell_type": "code",
   "execution_count": null,
   "metadata": {
    "scrolled": true
   },
   "outputs": [],
   "source": [
    "# pipeline = imbPipeline([('scaler', MinMaxScaler()),\n",
    "#                         ('sampling', SMOTE(random_state=2021)),\n",
    "#                         ('randfor', RandomForestClassifier(random_state=2021))])\n",
    "\n",
    "# grid = [{\n",
    "#     'randfor__n_estimators': [100, 300, 500],\n",
    "#     'randfor__criterion': ['gini', 'entropy'],\n",
    "#     'randfor__max_features': ['auto', 'sqrt', 'log2'],\n",
    "#     'randfor__max_depth' \n",
    "# }]\n",
    "\n",
    "# gridsearch_randfor = GridSearchCV(estimator=pipeline,\n",
    "#                                param_grid=grid,\n",
    "#                                scoring='recall_weighted',\n",
    "#                                cv=5,\n",
    "#                                n_jobs=-1,\n",
    "#                                verbose=True)\n",
    "\n",
    "# gridsearch_randfor.fit(X_train_best50_2, y_train)"
   ]
  },
  {
   "cell_type": "markdown",
   "metadata": {},
   "source": [
    "### `GradientBoostingClassifier`"
   ]
  },
  {
   "cell_type": "code",
   "execution_count": 28,
   "metadata": {
    "scrolled": false
   },
   "outputs": [
    {
     "name": "stdout",
     "output_type": "stream",
     "text": [
      "                         precision    recall  f1-score   support\n",
      "\n",
      "             functional       0.71      0.93      0.80      4830\n",
      "functional needs repair       0.73      0.14      0.24       646\n",
      "         non functional       0.83      0.59      0.69      3429\n",
      "\n",
      "               accuracy                           0.74      8905\n",
      "              macro avg       0.76      0.55      0.58      8905\n",
      "           weighted avg       0.76      0.74      0.72      8905\n",
      "\n",
      "                         precision    recall  f1-score   support\n",
      "\n",
      "             functional       0.71      0.92      0.80      4830\n",
      "functional needs repair       0.65      0.15      0.25       646\n",
      "         non functional       0.82      0.59      0.69      3429\n",
      "\n",
      "               accuracy                           0.74      8905\n",
      "              macro avg       0.73      0.55      0.58      8905\n",
      "           weighted avg       0.75      0.74      0.72      8905\n",
      "\n",
      "                         precision    recall  f1-score   support\n",
      "\n",
      "             functional       0.71      0.92      0.80      4830\n",
      "functional needs repair       0.62      0.15      0.25       647\n",
      "         non functional       0.83      0.60      0.70      3428\n",
      "\n",
      "               accuracy                           0.74      8905\n",
      "              macro avg       0.72      0.56      0.58      8905\n",
      "           weighted avg       0.75      0.74      0.72      8905\n",
      "\n",
      "                         precision    recall  f1-score   support\n",
      "\n",
      "             functional       0.71      0.93      0.81      4830\n",
      "functional needs repair       0.70      0.15      0.25       646\n",
      "         non functional       0.84      0.60      0.70      3428\n",
      "\n",
      "               accuracy                           0.75      8904\n",
      "              macro avg       0.75      0.56      0.58      8904\n",
      "           weighted avg       0.76      0.75      0.73      8904\n",
      "\n",
      "                         precision    recall  f1-score   support\n",
      "\n",
      "             functional       0.71      0.92      0.80      4830\n",
      "functional needs repair       0.55      0.11      0.19       646\n",
      "         non functional       0.82      0.59      0.69      3428\n",
      "\n",
      "               accuracy                           0.73      8904\n",
      "              macro avg       0.69      0.54      0.56      8904\n",
      "           weighted avg       0.74      0.73      0.71      8904\n",
      "\n",
      "[0.74138125 0.73778776 0.74418866 0.74719227 0.73483827]\n"
     ]
    }
   ],
   "source": [
    "pipeline = Pipeline([('scaler', MinMaxScaler()),\n",
    "                     ('gb_clf', GradientBoostingClassifier(random_state=2021))])\n",
    "\n",
    "scores = cross_val_score(pipeline, X_train_best50_2, y_train, scoring=scoring)\n",
    "print(scores)"
   ]
  },
  {
   "cell_type": "code",
   "execution_count": 34,
   "metadata": {},
   "outputs": [
    {
     "data": {
      "text/plain": [
       "0.7667048353565362"
      ]
     },
     "execution_count": 34,
     "metadata": {},
     "output_type": "execute_result"
    }
   ],
   "source": [
    "scores.mean()"
   ]
  },
  {
   "cell_type": "markdown",
   "metadata": {},
   "source": [
    "### `GradientBoostingClassifier` with `SMOTE`"
   ]
  },
  {
   "cell_type": "code",
   "execution_count": 29,
   "metadata": {},
   "outputs": [
    {
     "name": "stdout",
     "output_type": "stream",
     "text": [
      "                         precision    recall  f1-score   support\n",
      "\n",
      "             functional       0.76      0.72      0.74      4830\n",
      "functional needs repair       0.24      0.59      0.34       646\n",
      "         non functional       0.78      0.62      0.69      3429\n",
      "\n",
      "               accuracy                           0.68      8905\n",
      "              macro avg       0.59      0.64      0.59      8905\n",
      "           weighted avg       0.73      0.68      0.69      8905\n",
      "\n",
      "                         precision    recall  f1-score   support\n",
      "\n",
      "             functional       0.76      0.72      0.74      4830\n",
      "functional needs repair       0.23      0.57      0.32       646\n",
      "         non functional       0.78      0.61      0.68      3429\n",
      "\n",
      "               accuracy                           0.67      8905\n",
      "              macro avg       0.59      0.63      0.58      8905\n",
      "           weighted avg       0.73      0.67      0.69      8905\n",
      "\n",
      "                         precision    recall  f1-score   support\n",
      "\n",
      "             functional       0.76      0.72      0.74      4830\n",
      "functional needs repair       0.23      0.56      0.32       647\n",
      "         non functional       0.79      0.62      0.70      3428\n",
      "\n",
      "               accuracy                           0.67      8905\n",
      "              macro avg       0.59      0.64      0.59      8905\n",
      "           weighted avg       0.73      0.67      0.69      8905\n",
      "\n",
      "                         precision    recall  f1-score   support\n",
      "\n",
      "             functional       0.77      0.73      0.75      4830\n",
      "functional needs repair       0.23      0.55      0.33       646\n",
      "         non functional       0.78      0.63      0.70      3428\n",
      "\n",
      "               accuracy                           0.68      8904\n",
      "              macro avg       0.60      0.64      0.59      8904\n",
      "           weighted avg       0.74      0.68      0.70      8904\n",
      "\n",
      "                         precision    recall  f1-score   support\n",
      "\n",
      "             functional       0.76      0.72      0.74      4830\n",
      "functional needs repair       0.22      0.55      0.32       646\n",
      "         non functional       0.78      0.62      0.69      3428\n",
      "\n",
      "               accuracy                           0.67      8904\n",
      "              macro avg       0.59      0.63      0.58      8904\n",
      "           weighted avg       0.73      0.67      0.69      8904\n",
      "\n",
      "[0.67501404 0.66692869 0.67231892 0.6819407  0.66790207]\n"
     ]
    }
   ],
   "source": [
    "pipeline = imbPipeline([('scaler', MinMaxScaler()),\n",
    "                        ('sampling', SMOTE(random_state=2021)),\n",
    "                        ('gb_clf', GradientBoostingClassifier(random_state=2021))])\n",
    "\n",
    "scores = cross_val_score(pipeline, X_train_best50_2, y_train, scoring=scoring)\n",
    "print(scores)"
   ]
  },
  {
   "cell_type": "code",
   "execution_count": 52,
   "metadata": {},
   "outputs": [
    {
     "data": {
      "text/plain": [
       "<AxesSubplot:>"
      ]
     },
     "execution_count": 52,
     "metadata": {},
     "output_type": "execute_result"
    },
    {
     "data": {
      "image/png": "[encoded data removed]",
      "text/plain": [
       "<Figure size 432x288 with 1 Axes>"
      ]
     },
     "metadata": {
      "needs_background": "light"
     },
     "output_type": "display_data"
    }
   ],
   "source": [
    "X_test.funder.value_counts()[X_test.funder.value_counts() > 10].hist(bins=50)"
   ]
  },
  {
   "cell_type": "code",
   "execution_count": 50,
   "metadata": {},
   "outputs": [
    {
     "data": {
      "text/plain": [
       "Government Of Tanzania     2238\n",
       "Danida                      807\n",
       "Hesawa                      575\n",
       "Rwssp                       340\n",
       "World Vision                328\n",
       "                           ... \n",
       "Miziriol                     11\n",
       "Songea District Council      11\n",
       "Wfp                          11\n",
       "Ridep                        11\n",
       "Halmashauri                  11\n",
       "Name: funder, Length: 161, dtype: int64"
      ]
     },
     "execution_count": 50,
     "metadata": {},
     "output_type": "execute_result"
    }
   ],
   "source": [
    "X_test.funder.value_counts()[X_test.funder.value_counts() > 10]"
   ]
  },
  {
   "cell_type": "code",
   "execution_count": null,
   "metadata": {},
   "outputs": [],
   "source": []
  },
  {
   "cell_type": "code",
   "execution_count": null,
   "metadata": {},
   "outputs": [],
   "source": []
  },
  {
   "cell_type": "code",
   "execution_count": null,
   "metadata": {},
   "outputs": [],
   "source": []
  },
  {
   "cell_type": "code",
   "execution_count": null,
   "metadata": {},
   "outputs": [],
   "source": []
  },
  {
   "cell_type": "code",
   "execution_count": null,
   "metadata": {},
   "outputs": [],
   "source": []
  },
  {
   "cell_type": "code",
   "execution_count": null,
   "metadata": {},
   "outputs": [],
   "source": []
  }
 ],
 "metadata": {
  "kernelspec": {
   "display_name": "Python 3",
   "language": "python",
   "name": "python3"
  },
  "language_info": {
   "codemirror_mode": {
    "name": "ipython",
    "version": 3
   },
   "file_extension": ".py",
   "mimetype": "text/x-python",
   "name": "python",
   "nbconvert_exporter": "python",
   "pygments_lexer": "ipython3",
   "version": "3.8.5"
  }
 },
 "nbformat": 4,
 "nbformat_minor": 4
}
