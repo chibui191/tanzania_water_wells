{
 "cells": [
  {
   "cell_type": "code",
   "execution_count": 5,
   "metadata": {},
   "outputs": [],
   "source": [
    "import os\n",
    "\n",
    "import numpy as np\n",
    "import pandas as pd\n",
    "from geopy.distance import geodesic"
   ]
  },
  {
   "cell_type": "markdown",
   "metadata": {},
   "source": [
    "The datasets here were collected from 2 different sources:\n",
    "- https://simplemaps.com/data/tz-cities\n",
    "- https://worldpopulationreview.com/countries/cities/tanzania"
   ]
  },
  {
   "cell_type": "code",
   "execution_count": 6,
   "metadata": {},
   "outputs": [],
   "source": [
    "directory_to_data = os.path.join('..', '..', 'data')\n",
    "\n",
    "# Import Tanzania cities coordinates & population dataset\n",
    "tanzania_cities = pd.read_csv(os.path.join(directory_to_data, 'tz.csv'))\n",
    "\n",
    "# Import 2021 population dataset\n",
    "tanzania_pop = pd.read_csv(os.path.join(directory_to_data, 'csvData.csv'))\n",
    "tanzania_pop = tanzania_pop[['name', '2021']]\n",
    "tanzania_pop.columns = ['city', 'population_2021']\n",
    "\n",
    "# Merge 2 datasets on city names \n",
    "tz_df = tanzania_pop.merge(tanzania_cities, how='left', left_on='city', right_on='city')\n",
    "tz_df.head()\n",
    "\n",
    "# Drop the 2 population columns from the first df\n",
    "tz_df.drop(['population', 'population_proper'], axis=1, inplace=True)\n",
    "\n",
    "# Create another column that store the coordinates as a tuple\n",
    "tz_df['coordinates'] = list(zip(tz_df.lat, tz_df.lng))"
   ]
  },
  {
   "cell_type": "markdown",
   "metadata": {},
   "source": [
    "Then I will select the cities with population above 100,000 (this benchmark is currently arbitrary)"
   ]
  },
  {
   "cell_type": "code",
   "execution_count": 8,
   "metadata": {},
   "outputs": [],
   "source": [
    "tz_pop_above100k = tz_df[tz_df.population_2021 > 100000].copy()\n",
    "\n",
    "# Drop rows with missing latitude and/or longitude\n",
    "tz_pop_above100k.dropna(subset=['lat', 'lng'], inplace=True)\n",
    "\n",
    "tz_pop_above100k.to_pickle(os.path.join(directory_to_data, 'tanzania_big_cities.pkl'))"
   ]
  },
  {
   "cell_type": "code",
   "execution_count": 9,
   "metadata": {},
   "outputs": [],
   "source": [
    "def closest_point(x):\n",
    "    '''\n",
    "    Returns: a tuple\n",
    "    - tuple[0]: name of nearest big city (population over 100000)\n",
    "    - tuple[1]: geodesic distance from point x to nearest big city (tuple[0])\n",
    "    '''\n",
    "    \n",
    "    output = None\n",
    "    for _, city in tz_pop_above100k.iterrows():\n",
    "        distance = geodesic(x, city.coordinates).km\n",
    "        city_name = city.city\n",
    "        if (output is None) or (distance < output[1]):\n",
    "            output = (city_name, distance)\n",
    "    return output"
   ]
  },
  {
   "cell_type": "code",
   "execution_count": null,
   "metadata": {},
   "outputs": [],
   "source": []
  }
 ],
 "metadata": {
  "kernelspec": {
   "display_name": "Python 3",
   "language": "python",
   "name": "python3"
  },
  "language_info": {
   "codemirror_mode": {
    "name": "ipython",
    "version": 3
   },
   "file_extension": ".py",
   "mimetype": "text/x-python",
   "name": "python",
   "nbconvert_exporter": "python",
   "pygments_lexer": "ipython3",
   "version": "3.8.5"
  }
 },
 "nbformat": 4,
 "nbformat_minor": 4
}
